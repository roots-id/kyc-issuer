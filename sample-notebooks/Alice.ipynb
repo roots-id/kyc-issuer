{
 "cells": [
  {
   "cell_type": "code",
   "execution_count": 2,
   "metadata": {},
   "outputs": [],
   "source": [
    "import json\n",
    "import base64\n",
    "import requests\n",
    "import datetime\n",
    "import uuid\n",
    "from typing import Optional, List\n",
    "from didcomm.common.types import DID, VerificationMethodType, VerificationMaterial, VerificationMaterialFormat\n",
    "from didcomm.did_doc.did_doc import DIDDoc, VerificationMethod, DIDCommService\n",
    "from didcomm.did_doc.did_resolver import DIDResolver\n",
    "from didcomm.message import Message, FromPrior\n",
    "from didcomm.secrets.secrets_resolver_demo import SecretsResolverDemo\n",
    "from didcomm.unpack import unpack, UnpackResult\n",
    "from didcomm.common.resolvers import ResolversConfig\n",
    "from didcomm.pack_encrypted import pack_encrypted, PackEncryptedConfig, PackEncryptedResult\n",
    "from peerdid.core.did_doc_types import DIDCommServicePeerDID\n",
    "from didcomm.secrets.secrets_util import generate_x25519_keys_as_jwk_dict, generate_ed25519_keys_as_jwk_dict, jwk_to_secret\n",
    "from peerdid import peer_did\n",
    "from peerdid.did_doc import DIDDocPeerDID\n",
    "from peerdid.types import VerificationMaterialAuthentication, VerificationMethodTypeAuthentication, VerificationMaterialAgreement, VerificationMethodTypeAgreement, VerificationMaterialFormatPeerDID"
   ]
  },
  {
   "cell_type": "code",
   "execution_count": 61,
   "metadata": {},
   "outputs": [],
   "source": [
    "secrets_resolver = SecretsResolverDemo()"
   ]
  },
  {
   "cell_type": "code",
   "execution_count": 62,
   "metadata": {},
   "outputs": [],
   "source": [
    "class DIDResolverPeerDID(DIDResolver):\n",
    "    async def resolve(self, did: DID) -> DIDDoc:\n",
    "        did_doc_json = peer_did.resolve_peer_did(did, format = VerificationMaterialFormatPeerDID.JWK)\n",
    "        did_doc = DIDDocPeerDID.from_json(did_doc_json)\n",
    "\n",
    "        return DIDDoc(\n",
    "            did=did_doc.did,\n",
    "            key_agreement_kids = did_doc.agreement_kids,\n",
    "            authentication_kids = did_doc.auth_kids,\n",
    "            verification_methods = [\n",
    "                VerificationMethod(\n",
    "                    id = m.id,\n",
    "                    type = VerificationMethodType.JSON_WEB_KEY_2020,\n",
    "                    controller = m.controller,\n",
    "                    verification_material = VerificationMaterial(\n",
    "                        format = VerificationMaterialFormat.JWK,\n",
    "                        value = json.dumps(m.ver_material.value)\n",
    "                    )\n",
    "                )\n",
    "                for m in did_doc.authentication + did_doc.key_agreement\n",
    "            ],\n",
    "             didcomm_services = []\n",
    "#                 DIDCommService(\n",
    "#                     id = s.id,\n",
    "#                     service_endpoint = s.service_endpoint,\n",
    "#                     routing_keys = s.routing_keys,\n",
    "#                     accept = s.accept\n",
    "#                 )\n",
    "#                 for s in did_doc.service\n",
    "#                 if isinstance(s, DIDCommServicePeerDID)\n",
    "#            ] if did_doc.service else []\n",
    "        )"
   ]
  },
  {
   "cell_type": "code",
   "execution_count": 63,
   "metadata": {},
   "outputs": [],
   "source": [
    "async def create_peer_did(self,\n",
    "                        auth_keys_count: int = 1,\n",
    "                        agreement_keys_count: int = 1,\n",
    "                        service_endpoint: Optional[str] = None,\n",
    "                        service_routing_keys: Optional[List[str]] = None\n",
    "                        ) -> str:\n",
    "        # 1. generate keys in JWK format\n",
    "        agreem_keys = [generate_x25519_keys_as_jwk_dict() for _ in range(agreement_keys_count)]\n",
    "        auth_keys = [generate_ed25519_keys_as_jwk_dict() for _ in range(auth_keys_count)]\n",
    "\n",
    "        # 2. prepare the keys for peer DID lib\n",
    "        agreem_keys_peer_did = [\n",
    "            VerificationMaterialAgreement(\n",
    "                type=VerificationMethodTypeAgreement.JSON_WEB_KEY_2020,\n",
    "                format=VerificationMaterialFormatPeerDID.JWK,\n",
    "                value=k[1],\n",
    "            )\n",
    "            for k in agreem_keys\n",
    "        ]\n",
    "        auth_keys_peer_did = [\n",
    "            VerificationMaterialAuthentication(\n",
    "                type=VerificationMethodTypeAuthentication.JSON_WEB_KEY_2020,\n",
    "                format=VerificationMaterialFormatPeerDID.JWK,\n",
    "                value=k[1],\n",
    "            )\n",
    "            for k in auth_keys\n",
    "        ]\n",
    "\n",
    "        # 3. generate service\n",
    "        service = None\n",
    "        if service_endpoint:\n",
    "            service = json.dumps(\n",
    "                DIDCommServicePeerDID(\n",
    "                    id=\"new-id\",\n",
    "                    service_endpoint=service_endpoint, routing_keys=service_routing_keys,\n",
    "                    accept=[\"didcomm/v2\"]\n",
    "                ).to_dict()\n",
    "            )\n",
    "\n",
    "        # 4. call peer DID lib\n",
    "        # if we have just one key (auth), then use numalg0 algorithm\n",
    "        # otherwise use numalg2 algorithm\n",
    "        if len(auth_keys_peer_did) == 1 and not agreem_keys_peer_did and not service:\n",
    "            did = peer_did.create_peer_did_numalgo_0(auth_keys_peer_did[0])\n",
    "        else:\n",
    "            did = peer_did.create_peer_did_numalgo_2(\n",
    "                encryption_keys=agreem_keys_peer_did,\n",
    "                signing_keys=auth_keys_peer_did,\n",
    "                service=service,\n",
    "            )\n",
    "\n",
    "        # 5. set KIDs as in DID DOC for secrets and store the secret in the secrets resolver\n",
    "        did_doc = DIDDocPeerDID.from_json(peer_did.resolve_peer_did(did))\n",
    "        for auth_key, kid in zip(auth_keys, did_doc.auth_kids):\n",
    "            private_key = auth_key[0]\n",
    "            private_key[\"kid\"] = kid\n",
    "            await secrets_resolver.add_key(jwk_to_secret(private_key))\n",
    "\n",
    "        for agreem_key, kid in zip(agreem_keys, did_doc.agreement_kids):\n",
    "            private_key = agreem_key[0]\n",
    "            private_key[\"kid\"] = kid\n",
    "            await secrets_resolver.add_key(jwk_to_secret(private_key))\n",
    "\n",
    "        return did\n"
   ]
  },
  {
   "cell_type": "markdown",
   "metadata": {},
   "source": [
    "### Alice get OOB from Mediator"
   ]
  },
  {
   "cell_type": "code",
   "execution_count": 64,
   "metadata": {},
   "outputs": [],
   "source": [
    "#oob_url = requests.get(\"http://127.0.0.1:8000/oob_url\").text\n",
    "oob_url = requests.get(\"https://mediator.rootsid.cloud/oob_url\").text"
   ]
  },
  {
   "cell_type": "code",
   "execution_count": 65,
   "metadata": {},
   "outputs": [
    {
     "name": "stdout",
     "output_type": "stream",
     "text": [
      "https://mediator.rootsid.cloud?_oob=eyJ0eXBlIjoiaHR0cHM6Ly9kaWRjb21tLm9yZy9vdXQtb2YtYmFuZC8yLjAvaW52aXRhdGlvbiIsImlkIjoiNzk0Mjc4MzctY2MwNi00ODUzLWJiMzktNjg2ZWFjM2U2YjlhIiwiZnJvbSI6ImRpZDpwZWVyOjIuRXo2TFNtczU1NVloRnRobjFXVjhjaURCcFptODZoSzl0cDgzV29qSlVteFBHazFoWi5WejZNa21kQmpNeUI0VFM1VWJiUXc1NHN6bTh5dk1NZjFmdEdWMnNRVllBeGFlV2hFLlNleUpwWkNJNkltNWxkeTFwWkNJc0luUWlPaUprYlNJc0luTWlPaUpvZEhSd2N6b3ZMMjFsWkdsaGRHOXlMbkp2YjNSemFXUXVZMnh2ZFdRaUxDSmhJanBiSW1ScFpHTnZiVzB2ZGpJaVhYMCIsImJvZHkiOnsiZ29hbF9jb2RlIjoicmVxdWVzdC1tZWRpYXRlIiwiZ29hbCI6IlJlcXVlc3RNZWRpYXRlIiwibGFiZWwiOiJNZWRpYXRvciIsImFjY2VwdCI6WyJkaWRjb21tL3YyIl19fQ\n"
     ]
    }
   ],
   "source": [
    "print(oob_url)"
   ]
  },
  {
   "cell_type": "code",
   "execution_count": 66,
   "metadata": {},
   "outputs": [
    {
     "name": "stdout",
     "output_type": "stream",
     "text": [
      "Alice's DID: did:peer:2.Ez6LShM4yWqzTkYXK42GCc2a5LmKs3zEYmiAC7faW25gf8M1q.Vz6MkqxheRtjdDwxQaVP6xCiR9qy7hFSapytc5oswxGiJjF5h\n"
     ]
    }
   ],
   "source": [
    "received_msg_encoded = oob_url.split(\"=\")[1]\n",
    "received_msg_decoded = json.loads(str(base64.urlsafe_b64decode(received_msg_encoded + \"==\"), \"utf-8\"))\n",
    "alice_did_for_mediator = await create_peer_did(1,1)\n",
    "print(\"Alice's DID:\", alice_did_for_mediator)"
   ]
  },
  {
   "cell_type": "markdown",
   "metadata": {},
   "source": [
    "### Alice request mediate"
   ]
  },
  {
   "cell_type": "code",
   "execution_count": 67,
   "metadata": {},
   "outputs": [],
   "source": [
    "alice_mediate_grant = Message(\n",
    "    custom_headers = [{\"return_route\": \"all\"}],\n",
    "    id = str(uuid.uuid4()),\n",
    "    type = \"https://didcomm.org/coordinate-mediation/2.0/mediate-request\",\n",
    "    body = {}\n",
    ")"
   ]
  },
  {
   "cell_type": "code",
   "execution_count": 68,
   "metadata": {},
   "outputs": [],
   "source": [
    "alice_mediate_grant_packed = await pack_encrypted(\n",
    "    resolvers_config = ResolversConfig(\n",
    "        secrets_resolver = secrets_resolver,\n",
    "        did_resolver = DIDResolverPeerDID()\n",
    "    ),\n",
    "    message = alice_mediate_grant,\n",
    "    frm = alice_did_for_mediator,\n",
    "    to = received_msg_decoded[\"from\"],\n",
    "    sign_frm = None,\n",
    "    pack_config = PackEncryptedConfig(protect_sender_id=False)\n",
    ")"
   ]
  },
  {
   "cell_type": "markdown",
   "metadata": {},
   "source": [
    "### Sending to Mediator"
   ]
  },
  {
   "cell_type": "code",
   "execution_count": 69,
   "metadata": {},
   "outputs": [
    {
     "name": "stdout",
     "output_type": "stream",
     "text": [
      "https://mediator.rootsid.cloud\n"
     ]
    }
   ],
   "source": [
    "mediator_did_doc = json.loads(peer_did.resolve_peer_did(received_msg_decoded[\"from\"]))\n",
    "mediator_endpoint = mediator_did_doc[\"service\"][0][\"serviceEndpoint\"]\n",
    "print(mediator_endpoint)"
   ]
  },
  {
   "cell_type": "code",
   "execution_count": 70,
   "metadata": {},
   "outputs": [],
   "source": [
    "headers = {\"Content-Type\": \"application/didcomm-encrypted+json\"}\n",
    "resp = requests.post(mediator_endpoint, headers=headers, json = json.loads(alice_mediate_grant_packed.packed_msg))\n"
   ]
  },
  {
   "cell_type": "code",
   "execution_count": 71,
   "metadata": {},
   "outputs": [
    {
     "name": "stdout",
     "output_type": "stream",
     "text": [
      "{'protected': 'eyJ0eXAiOiJhcHBsaWNhdGlvbi9kaWRjb21tLWVuY3J5cHRlZCtqc29uIiwiYWxnIjoiRUNESC0xUFUrQTI1NktXIiwiZW5jIjoiQTI1NkNCQy1IUzUxMiIsImFwdSI6IlpHbGtPbkJsWlhJNk1pNUZlalpNVTJwRFdEbFZabkI2U0ZGNVNEVldjRXRYYzFOdFFYRmphazVyTWxkdGRXRjROMUpSV0VObFkyUldTR1pxTGxaNk5rMXJhV1pGUlZkeFVrTmhaMDFHV25CQ2EySnBXWFV5TW5KVVNGSnJRWGM0VEVKNWFsbDBkMmxpUW5OWWRUY3VVMlY1U25CYVEwazJTVzAxYkdSNU1YQmFRMGx6U1c1UmFVOXBTbXRpVTBselNXNU5hVTlwU205a1NGSjNZM3B2ZGt3eU1XeGFSMnhvWkVjNWVVeHVTblppTTFKNllWZFJkVmt5ZUhaa1YxRnBURU5LYUVscWNHSkpiVkp3V2tkT2RtSlhNSFprYWtscFdGZ3dJelpNVTJwRFdEbFZabkI2U0ZGNVNEVldjRXRYYzFOdFFYRmphazVyTWxkdGRXRjROMUpSV0VObFkyUldTR1pxIiwiYXB2IjoiSTlLazZNRGZwalA3UzN0VVVvQUJBelRaN2VIQV8ySUxndW9rNnlrUmctSSIsInNraWQiOiJkaWQ6cGVlcjoyLkV6NkxTakNYOVVmcHpIUXlINVZwS1dzU21BcWNqTmsyV211YXg3UlFYQ2VjZFZIZmouVno2TWtpZkVFV3FSQ2FnTUZacEJrYmlZdTIyclRIUmtBdzhMQnlqWXR3aWJCc1h1Ny5TZXlKcFpDSTZJbTVsZHkxcFpDSXNJblFpT2lKa2JTSXNJbk1pT2lKb2RIUndjem92TDIxbFpHbGhkRzl5TG5KdmIzUnphV1F1WTJ4dmRXUWlMQ0poSWpwYkltUnBaR052YlcwdmRqSWlYWDAjNkxTakNYOVVmcHpIUXlINVZwS1dzU21BcWNqTmsyV211YXg3UlFYQ2VjZFZIZmoiLCJlcGsiOnsiY3J2IjoiWDI1NTE5IiwieCI6IkFMamVTRXRpU3F2cVd1WWdUMWNiQUYtVS02X2FMZXNETzVfSjNiNGhKeGsiLCJrdHkiOiJPS1AifX0', 'recipients': [{'header': {'kid': 'did:peer:2.Ez6LShM4yWqzTkYXK42GCc2a5LmKs3zEYmiAC7faW25gf8M1q.Vz6MkqxheRtjdDwxQaVP6xCiR9qy7hFSapytc5oswxGiJjF5h#6LShM4yWqzTkYXK42GCc2a5LmKs3zEYmiAC7faW25gf8M1q'}, 'encrypted_key': 'IOSWsXJSBVZ2kVbTmPEQA8PxOa3nwBTd8G2e6a9SDKdnlgPevaEzYfzqleHqSdwgBSlBKwZyjeq-BfFajDsXP2xY28t1Q6UN'}], 'iv': 'NqGgxoii7WwDyK1cjH5cuQ', 'ciphertext': '_Pls8enmgSDalxK_q_5hImYqhZEDxD1cDyLtvUW9pfQNPyffQgUVzPgZAPpy9_cfwqyQ6Jzos_OoumyeU_qrIJuzu0fXdzWb76GjX9uZUfOSqeeKIkOWnZljFXPqSQ1sPFkQOhI_HnnAkhVi4v2ViDQclTDch7CAExkfp7F-nycbTnCjlgcPRAwiiTrq4sH550Y2wxgMcXQ1vF_iPTu9q_QRHqnHQeqvHPgNIyoVqt5FpYd158BmaFDh1Ta-50hHhn46LSNbtcNCRiNAyM2Szxt--64rc0Ta-3AZrdoZbJT2J89LvoLyux6DowRFo4PGMNS6qyzJ81wRRj07YKg-1gFjX3xl0QVrGJOSmFbznDKlVHsv_GrR40hLi-cF-iGwpICWLb_2w7j_UeAT95TMwENvr7IVOjP2PcoHMr16NRgl8HxFENuk5aZtOVXinMCiGX4BFKbrFyXoF-mmsmjzsAZkCs1rCo3XU_R6i5akG1WtuFHjETb4EJ7uX2V4X0QLEVbvwSNV1vIEc4wpgRksRWaHq3cCvnbC7PROygRCi9r6X5YLXUBcgrtTEyNvMnefyy0rhsc0R-Uc_NouzGws0G72UQo0ffNN-DC7B7MhucaB7x4cAZtM7U5y8GHCpEnzRgkxNHJsEEB6-rSMhtbPAAdrXuiRCsmHoReazE0ylQust0AfX1l3VkolzSSW2FhElpor1sioqy3zFDAyfedpMjTqk7rj5Gegp3r_1ezyrrJLShpD3xGIQ8yvs4ZSqzH9WOf76NfyPrU6mGu10HrlHOs7RveMzyBKWhbZ2SHll0jTgHpuK9VsNO6wwVpIqgMgxRARiv5Zqr1wB7IMkjGVGnQTzx7BXn_N4oo3uUl_BR8LqfSOKP01l48MlCNXSagEnLc8dz6Cbvvj-7L7csEmhfxLtbkRF-8FbrmdFigu20MCFehDB4G4w4UJerHAG2aw4euEa-HT86P8JQYMKVYXX7-MzT1tsfCFtCbt4Q6GYmcl3l-wxk3QVv247aFCqdeiPHVE2vMML6l-7E8XeGalb0V5AoDEVERuPfA8LTojVeJX706YBeweFrbP2XEzCvBApo5tlDdaFW-QdRuxCroLN05R-Qcx8KjqWSDpHFE7qpSpyJ1uaySpGh7caVpmRj7hYhYLHvrS5C8aXKJW-k0xSKRJcezJPnzmthc5KkpbZ6IILCQ7FxD54-FbbX2xOeSWtvvWQBigsDlQYpiWuCKXTV1HQhTJ3cgIOQmSUCNP3aGj9a4MyfrqdmzT5dh8g4LruOVByQTor6w3rPVjOp5LLxjA89pTDTlcFZxzSvqCx3S0syiYKpS_Jz7GRoIvJcvZsXC33Rd_uVKWQ5lendDKlbIrHU2FXFUxi54S-TUzV-TIHYKZYgDnZv-CzSml0iuwdDb2SIL-2oJKOLPdgjBSuV8n0UziAmx0xEzfD99meTrYN0xngzpewSdFrfaE8XvUDtzkMdKWGcSZxiQCwNTjQrRfFXJcUFFUq_vvoWN2_hYZaZlqpRXbLdQ3Jy9j1eS4iRFTBpG9hIfZv7h9IaC9YML9Ds4wIZQAA4ssFTcooIVfMX9_Sv5pps1Zs0D3DVSiUddNhEnf7TpV5JyuXj_juM92W9Dsk0p-Eha-LRmv0GFKd__sXbKvOoFpCSiDYYwM1E8AAxmTINgl0MNxnbVmIfCdW_msJHyWiA0411n7_E1ZGrng3aIjJFUtOx47b3BAbFNParQm32oIBzAK0GrKghC_blW-L5Poq5k67lU5MrHZx3peJh2tG7W3bQnNX8-Mw45tAZaPz4GPgcikxrVO2rmHODLwXBCJBpfZM3T-VZZhr_TC6duCjTLz2XwQ34pzbMJS07wnbx43O81NhfuoPFB4a5y5oOGjkMp7GocPp5OUqUrXAHTwpKR1jHQC4Yw3GglTAFba4HkZUJu3qXI-_IAHeUw2lBwNu6bNXFmKuZTnAxnr2bdWGlDo-zPNUHtWjq0Y2EoB8cDMH8-4oYPAfEOwZ0Po7YO8GFktFScJ27c', 'tag': 'EvpT6q2t--r8vKIERAH1wym60S0LOejN9GcHmqAoNTQ'}\n"
     ]
    }
   ],
   "source": [
    "print(resp.json())"
   ]
  },
  {
   "cell_type": "markdown",
   "metadata": {},
   "source": [
    "### Get mediator grant response"
   ]
  },
  {
   "cell_type": "code",
   "execution_count": 72,
   "metadata": {},
   "outputs": [
    {
     "name": "stdout",
     "output_type": "stream",
     "text": [
      "https://didcomm.org/coordinate-mediation/2.0/mediate-grant\n",
      "Routing Key: did:peer:2.Ez6LSnA2GiA5yB785BB8SDKSzjjPcavCEzkWQBK3TA2dStZbm.Vz6MkrH3cf5dUkpPA7KqzizFDkR8rmWrceX6W9tVLyoKshf8A.SeyJpZCI6Im5ldy1pZCIsInQiOiJkbSIsInMiOiJodHRwczovL21lZGlhdG9yLnJvb3RzaWQuY2xvdWQiLCJhIjpbImRpZGNvbW0vdjIiXX0\n",
      "Mediator new DID: did:peer:2.Ez6LSjCX9UfpzHQyH5VpKWsSmAqcjNk2Wmuax7RQXCecdVHfj.Vz6MkifEEWqRCagMFZpBkbiYu22rTHRkAw8LByjYtwibBsXu7.SeyJpZCI6Im5ldy1pZCIsInQiOiJkbSIsInMiOiJodHRwczovL21lZGlhdG9yLnJvb3RzaWQuY2xvdWQiLCJhIjpbImRpZGNvbW0vdjIiXX0\n"
     ]
    }
   ],
   "source": [
    "mediator_unpack_msg = await unpack(\n",
    "    resolvers_config=ResolversConfig(\n",
    "        secrets_resolver=secrets_resolver,\n",
    "        did_resolver=DIDResolverPeerDID()\n",
    "    ),\n",
    "    packed_msg= resp.json()\n",
    ")\n",
    "print(mediator_unpack_msg.message.type)\n",
    "print(\"Routing Key: \" + mediator_unpack_msg.message.body[\"routing_did\"])\n",
    "print(\"Mediator new DID: \" + mediator_unpack_msg.message.from_prior.sub)\n",
    "# mediator rotated did\n",
    "mediator_routing_key = mediator_unpack_msg.message.body[\"routing_did\"]\n",
    "mediator_did = mediator_unpack_msg.message.from_prior.sub"
   ]
  },
  {
   "cell_type": "markdown",
   "metadata": {},
   "source": [
    "### Keylist update"
   ]
  },
  {
   "cell_type": "markdown",
   "metadata": {},
   "source": [
    "Alice create a new DID to share with  other peers using mediator routing keys "
   ]
  },
  {
   "cell_type": "code",
   "execution_count": 73,
   "metadata": {},
   "outputs": [
    {
     "name": "stdout",
     "output_type": "stream",
     "text": [
      "Alice's DID for issuer: did:peer:2.Ez6LSpZwHVgS2PeSxCgei3MEftpLnwWAmnehPtp3G6kDYb8Pc.Vz6MkmbKAZtzQiV72VDcsaAetU7xnpL9D16n3bsSAfojnuTnK.SeyJpZCI6Im5ldy1pZCIsInQiOiJkbSIsInMiOiJkaWQ6cGVlcjoyLkV6NkxTbkEyR2lBNXlCNzg1QkI4U0RLU3pqalBjYXZDRXprV1FCSzNUQTJkU3RaYm0uVno2TWtySDNjZjVkVWtwUEE3S3F6aXpGRGtSOHJtV3JjZVg2Vzl0Vkx5b0tzaGY4QS5TZXlKcFpDSTZJbTVsZHkxcFpDSXNJblFpT2lKa2JTSXNJbk1pT2lKb2RIUndjem92TDIxbFpHbGhkRzl5TG5KdmIzUnphV1F1WTJ4dmRXUWlMQ0poSWpwYkltUnBaR052YlcwdmRqSWlYWDAiLCJhIjpbImRpZGNvbW0vdjIiXX0\n"
     ]
    }
   ],
   "source": [
    "#alice_did_new = await create_peer_did(1, 1, service_endpoint=mediator_endpoint, service_routing_keys=[mediator_routing_key])\n",
    "alice_did_for_issuer = await create_peer_did(1, 1, service_endpoint=mediator_routing_key)\n",
    "\n",
    "print(\"Alice's DID for issuer:\", alice_did_for_issuer)"
   ]
  },
  {
   "cell_type": "markdown",
   "metadata": {},
   "source": [
    "Alice create and send the keylist update message"
   ]
  },
  {
   "cell_type": "code",
   "execution_count": 74,
   "metadata": {},
   "outputs": [],
   "source": [
    "alice_keylist_update = Message(\n",
    "    id = \"unique-id-293e9a922efff\",\n",
    "    type = \"https://didcomm.org/coordinate-mediation/2.0/keylist-update\",\n",
    "    body = {\n",
    "        \"updates\":[\n",
    "        {\n",
    "            \"recipient_did\": alice_did_for_issuer,\n",
    "            \"action\": \"add\"\n",
    "        }\n",
    "    ]\n",
    "    }\n",
    ")"
   ]
  },
  {
   "cell_type": "code",
   "execution_count": 75,
   "metadata": {},
   "outputs": [],
   "source": [
    "alice_keylist_update_packed_msg = await pack_encrypted(\n",
    "    resolvers_config = ResolversConfig(\n",
    "        secrets_resolver = secrets_resolver,\n",
    "        did_resolver = DIDResolverPeerDID()\n",
    "    ),\n",
    "    message = alice_keylist_update,\n",
    "    frm = alice_did_for_mediator,\n",
    "    to = mediator_did,\n",
    "    sign_frm = None,\n",
    "    pack_config = PackEncryptedConfig(protect_sender_id=False)\n",
    ")"
   ]
  },
  {
   "cell_type": "code",
   "execution_count": 76,
   "metadata": {},
   "outputs": [],
   "source": [
    "headers = {\"Content-Type\": \"application/didcomm-encrypted+json\"}\n",
    "resp = requests.post(mediator_endpoint, headers=headers, data = alice_keylist_update_packed_msg.packed_msg)"
   ]
  },
  {
   "cell_type": "code",
   "execution_count": 77,
   "metadata": {},
   "outputs": [
    {
     "name": "stdout",
     "output_type": "stream",
     "text": [
      "https://didcomm.org/coordinate-mediation/2.0/keylist-update-response\n",
      "{'updated': [{'recipient_did': 'did:peer:2.Ez6LSpZwHVgS2PeSxCgei3MEftpLnwWAmnehPtp3G6kDYb8Pc.Vz6MkmbKAZtzQiV72VDcsaAetU7xnpL9D16n3bsSAfojnuTnK.SeyJpZCI6Im5ldy1pZCIsInQiOiJkbSIsInMiOiJkaWQ6cGVlcjoyLkV6NkxTbkEyR2lBNXlCNzg1QkI4U0RLU3pqalBjYXZDRXprV1FCSzNUQTJkU3RaYm0uVno2TWtySDNjZjVkVWtwUEE3S3F6aXpGRGtSOHJtV3JjZVg2Vzl0Vkx5b0tzaGY4QS5TZXlKcFpDSTZJbTVsZHkxcFpDSXNJblFpT2lKa2JTSXNJbk1pT2lKb2RIUndjem92TDIxbFpHbGhkRzl5TG5KdmIzUnphV1F1WTJ4dmRXUWlMQ0poSWpwYkltUnBaR052YlcwdmRqSWlYWDAiLCJhIjpbImRpZGNvbW0vdjIiXX0', 'action': 'add', 'result': 'success'}]}\n"
     ]
    }
   ],
   "source": [
    "mediator_unpack_msg2 = await unpack(\n",
    "    resolvers_config=ResolversConfig(\n",
    "        secrets_resolver=secrets_resolver,\n",
    "        did_resolver=DIDResolverPeerDID()\n",
    "    ),\n",
    "    packed_msg= resp.json()\n",
    ")\n",
    "print(mediator_unpack_msg2.message.type)\n",
    "print(mediator_unpack_msg2.message.body)\n"
   ]
  },
  {
   "cell_type": "markdown",
   "metadata": {},
   "source": [
    "### Alice check status of queued messages from the Mediator"
   ]
  },
  {
   "cell_type": "code",
   "execution_count": 139,
   "metadata": {},
   "outputs": [],
   "source": [
    "alice_status_check = Message(\n",
    "    id = \"unique-id-293e9a922efffxxx\",\n",
    "    type = \"https://didcomm.org/messagepickup/3.0/status-request\",\n",
    "    body = {}\n",
    ")"
   ]
  },
  {
   "cell_type": "code",
   "execution_count": 140,
   "metadata": {},
   "outputs": [],
   "source": [
    "alice_status_check_packed_msg = await pack_encrypted(\n",
    "    resolvers_config = ResolversConfig(\n",
    "        secrets_resolver = secrets_resolver,\n",
    "        did_resolver = DIDResolverPeerDID()\n",
    "    ),\n",
    "    message = alice_status_check,\n",
    "    to = mediator_did,\n",
    "    frm = alice_did_for_mediator,\n",
    "    sign_frm = None,\n",
    "    pack_config = PackEncryptedConfig(protect_sender_id=False)\n",
    ")\n",
    "headers = {\"Content-Type\": \"application/didcomm-encrypted+json\"}\n",
    "resp3 = requests.post(mediator_endpoint, headers=headers, data = alice_status_check_packed_msg.packed_msg)"
   ]
  },
  {
   "cell_type": "code",
   "execution_count": 141,
   "metadata": {},
   "outputs": [
    {
     "name": "stdout",
     "output_type": "stream",
     "text": [
      "https://didcomm.org/messagepickup/3.0/status\n",
      "Messages in Mediator queue: 1\n"
     ]
    }
   ],
   "source": [
    "mediator_unpack_status = await unpack(\n",
    "    resolvers_config=ResolversConfig(\n",
    "        secrets_resolver=secrets_resolver,\n",
    "        did_resolver=DIDResolverPeerDID()\n",
    "    ),\n",
    "    packed_msg= resp3.json()\n",
    ")\n",
    "print(mediator_unpack_status.message.type)\n",
    "print(\"Messages in Mediator queue: \" + str(mediator_unpack_status.message.body[\"message_count\"]))"
   ]
  },
  {
   "cell_type": "markdown",
   "metadata": {},
   "source": [
    "### If there are messages, Alice can pickup from the mediator (delivery request)"
   ]
  },
  {
   "cell_type": "code",
   "execution_count": 142,
   "metadata": {},
   "outputs": [],
   "source": [
    "alice_delivery_request = Message(\n",
    "    id = \"unique-id-293e9a922efffxxxff\",\n",
    "    type = \"https://didcomm.org/messagepickup/3.0/delivery-request\",\n",
    "    body = {\"limit\": 1}\n",
    ")"
   ]
  },
  {
   "cell_type": "code",
   "execution_count": 143,
   "metadata": {},
   "outputs": [],
   "source": [
    "alice_delivery_request_packed_msg = await pack_encrypted(\n",
    "    resolvers_config = ResolversConfig(\n",
    "        secrets_resolver = secrets_resolver,\n",
    "        did_resolver = DIDResolverPeerDID()\n",
    "    ),\n",
    "    message = alice_delivery_request,\n",
    "    to = mediator_did,\n",
    "    frm = alice_did_for_mediator,\n",
    "    sign_frm = None,\n",
    "    pack_config = PackEncryptedConfig(protect_sender_id=False)\n",
    ")\n",
    "headers = {\"Content-Type\": \"application/didcomm-encrypted+json\"}\n",
    "resp4 = requests.post(mediator_endpoint, headers=headers, data = alice_delivery_request_packed_msg.packed_msg)"
   ]
  },
  {
   "cell_type": "code",
   "execution_count": 144,
   "metadata": {},
   "outputs": [
    {
     "name": "stdout",
     "output_type": "stream",
     "text": [
      "https://didcomm.org/messagepickup/3.0/delivery\n",
      "{'recipient_key': None}\n"
     ]
    }
   ],
   "source": [
    "mediator_delivery = await unpack(\n",
    "    resolvers_config=ResolversConfig(\n",
    "        secrets_resolver=secrets_resolver,\n",
    "        did_resolver=DIDResolverPeerDID()\n",
    "    ),\n",
    "    packed_msg= resp4.json()\n",
    ")\n",
    "print(mediator_delivery.message.type)\n",
    "print(mediator_delivery.message.body)"
   ]
  },
  {
   "cell_type": "code",
   "execution_count": 145,
   "metadata": {},
   "outputs": [],
   "source": [
    "issuer_packed_msg = mediator_delivery.message.attachments[0].data.json\n",
    "msg_id = mediator_delivery.message.attachments[0].id"
   ]
  },
  {
   "cell_type": "code",
   "execution_count": 146,
   "metadata": {},
   "outputs": [
    {
     "name": "stdout",
     "output_type": "stream",
     "text": [
      "{'protected': 'eyJ0eXAiOiJhcHBsaWNhdGlvbi9kaWRjb21tLWVuY3J5cHRlZCtqc29uIiwiYWxnIjoiRUNESC0xUFUrQTI1NktXIiwiZW5jIjoiQTI1NkNCQy1IUzUxMiIsImFwdSI6IlpHbGtPbkJsWlhJNk1pNUZlalpNVTJoMmNFVktUV1o0ZERKMFkyOUZOazQ0ZEZwMU1rcDNSRTQ1ZW5kWFkzbE9jMWh1VldSQ09GQk5aVVE1TGxaNk5rMXJaMk5IVGpKWE5rdDZjbWRZVkhkdGFuVm1VVUZtT0dWWFJXVjBOVlJDVlhWWk9WcFlWWEZpVEhCdVJrSXVVMlY1U25CYVEwazJTVzAxYkdSNU1YQmFRMGx6U1c1UmFVOXBTbXRpVTBselNXNU5hVTlwU205a1NGSjNUMms0ZGsxVVNUTk1ha0YxVFVNMGVFOXFaM2ROUkVGcFRFTkthRWxxY0dKSmJWSndXa2RPZG1KWE1IWmtha2xwV0Znd0l6Wk1VMmgyY0VWS1RXWjRkREowWTI5Rk5rNDRkRnAxTWtwM1JFNDVlbmRYWTNsT2MxaHVWV1JDT0ZCTlpVUTUiLCJhcHYiOiIxaUxwdzZFSnFIWmJhVzNERldNblU0VUY1cF9FOEU1QV9CNDQ1MnVKenRFIiwic2tpZCI6ImRpZDpwZWVyOjIuRXo2TFNodnBFSk1meHQydGNvRTZOOHRadTJKd0ROOXp3V2N5TnNYblVkQjhQTWVEOS5WejZNa2djR04yVzZLenJnWFR3bWp1ZlFBZjhlV0VldDVUQlV1WTlaWFVxYkxwbkZCLlNleUpwWkNJNkltNWxkeTFwWkNJc0luUWlPaUprYlNJc0luTWlPaUpvZEhSd09pOHZNVEkzTGpBdU1DNHhPamd3TURBaUxDSmhJanBiSW1ScFpHTnZiVzB2ZGpJaVhYMCM2TFNodnBFSk1meHQydGNvRTZOOHRadTJKd0ROOXp3V2N5TnNYblVkQjhQTWVEOSIsImVwayI6eyJjcnYiOiJYMjU1MTkiLCJ4IjoidFF5cW9XaFVsWUpHNFhiQ194bWxPc1VJQnNmMVBxdFBlcHJpbXUzOFEySSIsImt0eSI6Ik9LUCJ9fQ', 'recipients': [{'header': {'kid': 'did:peer:2.Ez6LSpZwHVgS2PeSxCgei3MEftpLnwWAmnehPtp3G6kDYb8Pc.Vz6MkmbKAZtzQiV72VDcsaAetU7xnpL9D16n3bsSAfojnuTnK.SeyJpZCI6Im5ldy1pZCIsInQiOiJkbSIsInMiOiJkaWQ6cGVlcjoyLkV6NkxTbkEyR2lBNXlCNzg1QkI4U0RLU3pqalBjYXZDRXprV1FCSzNUQTJkU3RaYm0uVno2TWtySDNjZjVkVWtwUEE3S3F6aXpGRGtSOHJtV3JjZVg2Vzl0Vkx5b0tzaGY4QS5TZXlKcFpDSTZJbTVsZHkxcFpDSXNJblFpT2lKa2JTSXNJbk1pT2lKb2RIUndjem92TDIxbFpHbGhkRzl5TG5KdmIzUnphV1F1WTJ4dmRXUWlMQ0poSWpwYkltUnBaR052YlcwdmRqSWlYWDAiLCJhIjpbImRpZGNvbW0vdjIiXX0#6LSpZwHVgS2PeSxCgei3MEftpLnwWAmnehPtp3G6kDYb8Pc'}, 'encrypted_key': 'ZKVUPAu_0WRpm0OCIrcig2nqet4H0M_CwUc3CAUfTbal3FZUWEemenCaX32qEIG2GoyeAZqsv9oUt_AhP6wjrYjunxxmOazk'}], 'iv': 'TsEW-0-bvFXdfWW8wRvYBA', 'ciphertext': 'PLSCdXfyeQrLuDb5Q0dFbJiwjc16Dfh1w27FeIF8Ibc7EgKtkLZRM4uZMMwleKwUMNSBOu9-VJDZytzpOdrwdrHYMzphT_hDOujPs6ZIgAdqMrU_Ee4xBOOSWfnuc44o94XNXDzE-ODbpazpBMzJASw72iKGslmU7dc87zz94nVmtl_FhM7JewHk6CEThdnm8_M-nk6dPhbJtmCAWB0ZNztOVrRE_LzhMx95h50E0CFGwFF1hU3Xrs5Uu8ufcWsxiTBKTFi99VzYxU8lUYVQHy1nRpRKiUYyf_C3rwhJB1z7PpmEs8XzEQJIyrJjpZTLR44EYx2BWRu3aSeMLAI2R99Yrx_r2KkZyOxXdvEnWquiMq_aw5pr1Nhpml-0evgGKVI8x60Eez9AFEwePSmHriuM4OXYoWDjfxnE4zn5HwQqXYLq6ht4AQeDfMZeEYOu4zfb-LAB3Qqzl18aMSr_bNn80vHOI9cpE7iXVAZqBcNTsTbqCB44utFNjkwH-BlPhIhmo9Hd9JCvjCb_mqHMW7yy3aKpeULpWa4X2cBb979T6UUGjhzVutCVOB64jVfHFrYdW_aEnPXim21u3Eywrf8Hu0HUK9GLiFINu2TKwft6Z0x9qPr_mrd8PLpDN7e2aJpC33lfGFLFTFWwivBXhtKzfYssSYe8v0PfXeIrrGWALY-rT41yZXSSlJnFqJLZqMls6-DzK6oo2GI4bFPnJi95lE1OeQpbOs1wYqJFpCorSJtIYwQC6WmLTNUAwqd8XaWAnNxWeXhoJyhzolTiESORif2XLeANpqVsb1YQAGm-W7Ygb155f7Mk1frofejchbelcLfoYKrWmqQR2JDwA4DMq_bTx3qK28lUMet19wHgD5S3UkfnlQgWs06CL8RqbLsbFA94dk83gpPLUmjl-LFpqCVxsCmt4YwiiVxlsOSrsKHNb_dEHBmUcOtbrFdRNsnDgyvbiVppuhjiBbHzZY13-2RfDA7qRtXZ0jWKPzh7jszcUmE3xmXVeCwqQ8juqlOvTLh9jYKeTOL9qBrnBi9oX2npSNVpBhZm9KIDapeNtjY6WuiwF4UiP3To0fV3PqIGf9Usht4jkCCkfU67EsUYnnOjBZDq-4rNhnnW6YifZKTWbCr2rqeEFaLPlFeSxzmej9VIJy4IUirvBpIaaF9ICIFaljVka6ImsgBuWwskwELue1CQA-JRjdI6to-Q23Yar3Ik-a9VIZhTpXwtw4zuvhArENKxT2FVmo-D1BKSs6qmQvp-Ey6v8dbDAj1tkNefyhp_Vv7DbMrrd2o-RTQ2TEZliagLMqFrpaEn5nEVkcXBU4bkb6KeDTISBwIhzdUOwPUWHiYfFgOEZr5vRFAvNgFdENJ5g3n55VZQKgdVUnIyWwXFwsEnzlp2qYE7mcmkZ_ae4aWZhKogmZsfDR22A6UXu8-sTcka6kLs6C6QKaSILb1hZX6tAYJTa9B-86jl7K6v52XQmTsKTVMVrcqJUGLg2rBROyXqw-DR28YhLwh_z2XcKhxnlA9ZRFB5P-IvoJQ67msmSQkQT99ZGqbD6K8l0kjtG1wcxKa46pVzd6H0VPj5HYEuGprZIATCkiQQgKxq43HLeUmlueafhOsp8keSgr6HZXGgkS0dKS2kiQw0uk6qsxnY3T2joRsRswZhVsGWx8TJrQ6utfnFFIOcMLJfheDUDUKfHgZ6k8gCGZyDqBIvpJ-zzfDkM6ahdaHUyoaAHh7lAGEcx3HQqW4m8L1oe5ptgggwqvnuE1LdWFVbvHWRvPEYXB1AmFSWrSxEApkqXlWAxYtCe2jUPT9JxqDY_6yCIwGmjFDdSewMCy0_LT3ateSzoJt1gzOGU6-qr0w6o92kasqfavy_FLwzRQMaG_w-iFPKbrhcjDh_X9i6wXsZzC8VHq98nfUimZOjuQ1uUHxHzZ59kE2_y20VstMEae9IQmFZ1SoGnTphCh30O37enk9CvAbIuHORXE_fMYdlRteqlegbOt93z_zXiUkQ1GvCPsZjcXZdrvbK3p2K9tjcomLh-X6tj-CgkUJ5nqCJXM7aGMSbkaVc7llwY2N2CSbdeK_i8xPlIuW5bketzz26jeoPZ19ZMHZAJvQA13RGJwD3v_SrvKqhf3mr-syHbc4NvYX_9p_RbS3AOvBzDPlEZaQQMrMDcheENJcGQ80d8Qelgzs2uO5__Orv5k9bcNVIE8kz4s8jDSg', 'tag': '14MlOBsvdgOQCiVAGN8Be2_r9LIAR1nZrHfRLBgPFUQ'}\n"
     ]
    }
   ],
   "source": [
    "print(issuer_packed_msg)"
   ]
  },
  {
   "cell_type": "code",
   "execution_count": 147,
   "metadata": {},
   "outputs": [],
   "source": [
    "issuer_msg = await unpack(\n",
    "    resolvers_config=ResolversConfig(\n",
    "        secrets_resolver=secrets_resolver,\n",
    "        did_resolver=DIDResolverPeerDID()\n",
    "    ),\n",
    "    packed_msg= issuer_packed_msg\n",
    ")"
   ]
  },
  {
   "cell_type": "code",
   "execution_count": 148,
   "metadata": {},
   "outputs": [
    {
     "name": "stdout",
     "output_type": "stream",
     "text": [
      "Message ID: 63b740366eee089c8c00a75f\n",
      "Message(id='df4e2005-2637-48bb-b6a1-ec3625f388dd', type='https://didcomm.org/discover-features/2.0/disclose', body={'disclosures': [{'feature-type': 'protocol', 'id': 'https://didcomm.org/out-of-band/2.0'}, {'feature-type': 'protocol', 'id': 'https://didcomm.org/trust-ping/2.0'}, {'feature-type': 'protocol', 'id': 'https://didcomm.org/discover-features/2.0'}, {'feature-type': 'protocol', 'id': 'https://didcomm.org/shorten-url/1.0/'}, {'feature-type': 'protocol', 'id': 'https://didcomm.org/issue-credential/3.0'}]}, frm=None, to=None, created_time=None, expires_time=None, from_prior=FromPrior(iss='did:peer:2.Ez6LSfhAZnmscP1wt4aeXKaszYKog1c4vHvVDgF6vsWrQ62K6.Vz6MkvWMY5d9ouC3hP4KqaXWsqq1VjUqM2XyUeUHg4GEZ3Q2D.SeyJpZCI6Im5ldy1pZCIsInQiOiJkbSIsInMiOiJodHRwOi8vMTI3LjAuMC4xOjgwMDAiLCJhIjpbImRpZGNvbW0vdjIiXX0', sub='did:peer:2.Ez6LShvpEJMfxt2tcoE6N8tZu2JwDN9zwWcyNsXnUdB8PMeD9.Vz6MkgcGN2W6KzrgXTwmjufQAf8eWEet5TBUuY9ZXUqbLpnFB.SeyJpZCI6Im5ldy1pZCIsInQiOiJkbSIsInMiOiJodHRwOi8vMTI3LjAuMC4xOjgwMDAiLCJhIjpbImRpZGNvbW0vdjIiXX0', aud=None, exp=None, nbf=None, iat=None, jti=None), please_ack=None, ack=None, thid='3504b046-7283-4bf8-baac-bbbd53aa2601', pthid=None, attachments=None, custom_headers=None)\n"
     ]
    }
   ],
   "source": [
    "print(\"Message ID:\", msg_id)\n",
    "print(issuer_msg.message)"
   ]
  },
  {
   "cell_type": "markdown",
   "metadata": {},
   "source": [
    "### Alice acknowledge so the mediator can delete the message"
   ]
  },
  {
   "cell_type": "code",
   "execution_count": 149,
   "metadata": {},
   "outputs": [],
   "source": [
    "alice_ack = Message(\n",
    "    id = \"unique-id-293e9a922efffxxxffsss\",\n",
    "    type = \"https://didcomm.org/messagepickup/3.0/messages-received\",\n",
    "    body = {\"message_id_list\": [msg_id]}\n",
    ")"
   ]
  },
  {
   "cell_type": "code",
   "execution_count": 150,
   "metadata": {},
   "outputs": [],
   "source": [
    "alice_ack_packed_msg = await pack_encrypted(\n",
    "    resolvers_config = ResolversConfig(\n",
    "        secrets_resolver = secrets_resolver,\n",
    "        did_resolver = DIDResolverPeerDID()\n",
    "    ),\n",
    "    message = alice_ack,\n",
    "    to = mediator_did,\n",
    "    frm = alice_did_for_mediator,\n",
    "    sign_frm = None,\n",
    "    pack_config = PackEncryptedConfig(protect_sender_id=False)\n",
    ")\n",
    "headers = {\"Content-Type\": \"application/didcomm-encrypted+json\"}\n",
    "resp5 = requests.post(mediator_endpoint, headers=headers, data = alice_ack_packed_msg.packed_msg)"
   ]
  },
  {
   "cell_type": "code",
   "execution_count": 151,
   "metadata": {},
   "outputs": [
    {
     "name": "stdout",
     "output_type": "stream",
     "text": [
      "https://didcomm.org/messagepickup/3.0/status\n",
      "{'message_count': 0, 'live_delivery': False}\n"
     ]
    }
   ],
   "source": [
    "mediator_ack_status = await unpack(\n",
    "    resolvers_config=ResolversConfig(\n",
    "        secrets_resolver=secrets_resolver,\n",
    "        did_resolver=DIDResolverPeerDID()\n",
    "    ),\n",
    "    packed_msg= resp5.json()\n",
    ")\n",
    "print(mediator_ack_status.message.type)\n",
    "print(mediator_ack_status.message.body)"
   ]
  },
  {
   "cell_type": "markdown",
   "metadata": {},
   "source": [
    "## Reading Issuer OOB invitation"
   ]
  },
  {
   "cell_type": "code",
   "execution_count": 3,
   "metadata": {},
   "outputs": [
    {
     "name": "stdout",
     "output_type": "stream",
     "text": [
      "did:peer:2.Ez6LSf24FrLpp7ftSL8kBJCHpfnSm2pkNXYEpgBJzj2mzXxj2.Vz6MkvrDg28FkxuJHCZUyXEgE4uLKjTTCQuyUahzdu8RVxTiF.SeyJpZCI6Im5ldy1pZCIsInQiOiJkbSIsInMiOiJodHRwOi8vMTkyLjE2OC44Ni41Mzo4MDAwIiwiYSI6WyJkaWRjb21tL3YyIl19\n",
      "http://192.168.86.53:8000\n"
     ]
    }
   ],
   "source": [
    "oob_url_issuer = requests.get(\"http://127.0.0.1:8000/oob_url\").text\n",
    "received_msg_encoded = oob_url_issuer.split(\"=\")[1]\n",
    "received_msg_decoded = json.loads(str(base64.urlsafe_b64decode(received_msg_encoded + \"==\"), \"utf-8\"))\n",
    "issuer_did = received_msg_decoded[\"from\"]\n",
    "issuer_did_doc = json.loads(peer_did.resolve_peer_did(issuer_did))\n",
    "issuer_endpoint = issuer_did_doc[\"service\"][0][\"serviceEndpoint\"]\n",
    "print(issuer_did)\n",
    "print(issuer_endpoint)"
   ]
  },
  {
   "cell_type": "markdown",
   "metadata": {},
   "source": [
    "## Sending ping to Issuer"
   ]
  },
  {
   "cell_type": "code",
   "execution_count": 84,
   "metadata": {},
   "outputs": [],
   "source": [
    "alice_ping_message = Message(\n",
    "    body = { \"response_requested\": True },\n",
    "    id = str(uuid.uuid4()),\n",
    "    type = \"https://didcomm.org/trust-ping/2.0/ping\",\n",
    "    frm = alice_did_for_issuer,\n",
    "    to = [issuer_did]\n",
    ")"
   ]
  },
  {
   "cell_type": "code",
   "execution_count": 86,
   "metadata": {},
   "outputs": [],
   "source": [
    "alice_ping_message_packed = await pack_encrypted(\n",
    "    resolvers_config = ResolversConfig(\n",
    "        secrets_resolver = secrets_resolver,\n",
    "        did_resolver = DIDResolverPeerDID()\n",
    "    ),\n",
    "    message = alice_ping_message,\n",
    "    frm = alice_did_for_issuer,\n",
    "    to = issuer_did,\n",
    "    sign_frm = None,\n",
    "    pack_config = PackEncryptedConfig(protect_sender_id=False)\n",
    ")"
   ]
  },
  {
   "cell_type": "code",
   "execution_count": 87,
   "metadata": {},
   "outputs": [],
   "source": [
    "headers = {\"Content-Type\": \"application/didcomm-encrypted+json\"}\n",
    "resp = requests.post(issuer_endpoint, headers=headers, json = json.loads(alice_ping_message_packed.packed_msg))\n"
   ]
  },
  {
   "cell_type": "markdown",
   "metadata": {},
   "source": [
    "## Discover features to Issuer"
   ]
  },
  {
   "cell_type": "code",
   "execution_count": 119,
   "metadata": {},
   "outputs": [],
   "source": [
    "alice_df_message = Message(\n",
    "    id = str(uuid.uuid4()),\n",
    "    type = \"https://didcomm.org/discover-features/2.0/queries\",\n",
    "    body = {\n",
    "        \"queries\": [\n",
    "            { \"feature-type\": \"protocol\", \"match\": \"*\" }\n",
    "        ]\n",
    "    },\n",
    "    frm = alice_did_for_issuer,\n",
    "    to = [issuer_did]\n",
    ")"
   ]
  },
  {
   "cell_type": "code",
   "execution_count": 120,
   "metadata": {},
   "outputs": [],
   "source": [
    "alice_df_message_packed = await pack_encrypted(\n",
    "    resolvers_config = ResolversConfig(\n",
    "        secrets_resolver = secrets_resolver,\n",
    "        did_resolver = DIDResolverPeerDID()\n",
    "    ),\n",
    "    message = alice_df_message,\n",
    "    frm = alice_did_for_issuer,\n",
    "    to = issuer_did,\n",
    "    sign_frm = None,\n",
    "    pack_config = PackEncryptedConfig(protect_sender_id=False)\n",
    ")"
   ]
  },
  {
   "cell_type": "code",
   "execution_count": 138,
   "metadata": {},
   "outputs": [],
   "source": [
    "headers = {\"Content-Type\": \"application/didcomm-encrypted+json\"}\n",
    "resp = requests.post(issuer_endpoint, headers=headers, json = json.loads(alice_df_message_packed.packed_msg))\n"
   ]
  },
  {
   "cell_type": "code",
   "execution_count": null,
   "metadata": {},
   "outputs": [],
   "source": []
  }
 ],
 "metadata": {
  "kernelspec": {
   "display_name": "Python 3 (ipykernel)",
   "language": "python",
   "name": "python3"
  },
  "language_info": {
   "codemirror_mode": {
    "name": "ipython",
    "version": 3
   },
   "file_extension": ".py",
   "mimetype": "text/x-python",
   "name": "python",
   "nbconvert_exporter": "python",
   "pygments_lexer": "ipython3",
   "version": "3.10.4"
  }
 },
 "nbformat": 4,
 "nbformat_minor": 2
}
