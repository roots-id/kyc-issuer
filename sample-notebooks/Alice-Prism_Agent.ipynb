{
 "cells": [
  {
   "cell_type": "code",
   "execution_count": 644,
   "metadata": {},
   "outputs": [],
   "source": [
    "import json\n",
    "import base64\n",
    "import qrcode\n",
    "import requests\n",
    "import datetime\n",
    "import uuid\n",
    "import matplotlib.pyplot as plt\n",
    "from pymongo import MongoClient\n",
    "from typing import Optional, List\n",
    "from didcomm.common.types import DID, VerificationMethodType, VerificationMaterial, VerificationMaterialFormat\n",
    "from didcomm.did_doc.did_doc import DIDDoc, VerificationMethod, DIDCommService\n",
    "from didcomm.did_doc.did_resolver import DIDResolver\n",
    "from didcomm.message import Message, FromPrior\n",
    "from didcomm.secrets.secrets_resolver_demo import SecretsResolverDemo\n",
    "from didcomm.unpack import unpack, UnpackResult\n",
    "from didcomm.common.resolvers import ResolversConfig\n",
    "from didcomm.pack_encrypted import pack_encrypted, PackEncryptedConfig, PackEncryptedResult\n",
    "from peerdid.core.did_doc_types import DIDCommServicePeerDID\n",
    "from didcomm.secrets.secrets_util import generate_x25519_keys_as_jwk_dict, generate_ed25519_keys_as_jwk_dict, jwk_to_secret\n",
    "from peerdid import peer_did\n",
    "from peerdid.did_doc import DIDDocPeerDID\n",
    "from peerdid.types import VerificationMaterialAuthentication, VerificationMethodTypeAuthentication, VerificationMaterialAgreement, VerificationMethodTypeAgreement, VerificationMaterialFormatPeerDID"
   ]
  },
  {
   "cell_type": "code",
   "execution_count": 645,
   "metadata": {},
   "outputs": [],
   "source": [
    "secrets_resolver = SecretsResolverDemo()"
   ]
  },
  {
   "cell_type": "code",
   "execution_count": 646,
   "metadata": {},
   "outputs": [],
   "source": [
    "class DIDResolverPeerDID(DIDResolver):\n",
    "    async def resolve(self, did: DID) -> DIDDoc:\n",
    "        did_doc_json = peer_did.resolve_peer_did(did, format = VerificationMaterialFormatPeerDID.JWK)\n",
    "        did_doc = DIDDocPeerDID.from_json(did_doc_json)\n",
    "\n",
    "        return DIDDoc(\n",
    "            did=did_doc.did,\n",
    "            key_agreement_kids = did_doc.agreement_kids,\n",
    "            authentication_kids = did_doc.auth_kids,\n",
    "            verification_methods = [\n",
    "                VerificationMethod(\n",
    "                    id = m.id,\n",
    "                    type = VerificationMethodType.JSON_WEB_KEY_2020,\n",
    "                    controller = m.controller,\n",
    "                    verification_material = VerificationMaterial(\n",
    "                        format = VerificationMaterialFormat.JWK,\n",
    "                        value = json.dumps(m.ver_material.value)\n",
    "                    )\n",
    "                )\n",
    "                for m in did_doc.authentication + did_doc.key_agreement\n",
    "            ],\n",
    "             didcomm_services = []\n",
    "#                 DIDCommService(\n",
    "#                     id = s.id,\n",
    "#                     service_endpoint = s.service_endpoint,\n",
    "#                     routing_keys = s.routing_keys,\n",
    "#                     accept = s.accept\n",
    "#                 )\n",
    "#                 for s in did_doc.service\n",
    "#                 if isinstance(s, DIDCommServicePeerDID)\n",
    "#            ] if did_doc.service else []\n",
    "        )"
   ]
  },
  {
   "cell_type": "code",
   "execution_count": null,
   "metadata": {},
   "outputs": [],
   "source": []
  },
  {
   "cell_type": "code",
   "execution_count": 711,
   "metadata": {},
   "outputs": [],
   "source": [
    "async def create_peer_did(self,\n",
    "                        auth_keys_count: int = 1,\n",
    "                        agreement_keys_count: int = 1,\n",
    "                        service_endpoint: Optional[str] = None,\n",
    "                        service_routing_keys: Optional[List[str]] = None\n",
    "                        ) -> str:\n",
    "        # 1. generate keys in JWK format\n",
    "        agreem_keys = [generate_x25519_keys_as_jwk_dict() for _ in range(agreement_keys_count)]\n",
    "        auth_keys = [generate_ed25519_keys_as_jwk_dict() for _ in range(auth_keys_count)]\n",
    "\n",
    "        # 2. prepare the keys for peer DID lib\n",
    "        agreem_keys_peer_did = [\n",
    "            VerificationMaterialAgreement(\n",
    "                type=VerificationMethodTypeAgreement.JSON_WEB_KEY_2020,\n",
    "                format=VerificationMaterialFormatPeerDID.JWK,\n",
    "                value=k[1],\n",
    "            )\n",
    "            for k in agreem_keys\n",
    "        ]\n",
    "        auth_keys_peer_did = [\n",
    "            VerificationMaterialAuthentication(\n",
    "                type=VerificationMethodTypeAuthentication.JSON_WEB_KEY_2020,\n",
    "                format=VerificationMaterialFormatPeerDID.JWK,\n",
    "                value=k[1],\n",
    "            )\n",
    "            for k in auth_keys\n",
    "        ]\n",
    "\n",
    "        # 3. generate service\n",
    "        service = None\n",
    "        if service_endpoint:\n",
    "            service = json.dumps(\n",
    "                DIDCommServicePeerDID(\n",
    "                    id=\"new-id\",\n",
    "                    service_endpoint=service_endpoint, \n",
    "                    routing_keys=[],\n",
    "                    accept=[\"didcomm/v2\"]\n",
    "                ).to_dict()\n",
    "            )\n",
    "\n",
    "        # 4. call peer DID lib\n",
    "        # if we have just one key (auth), then use numalg0 algorithm\n",
    "        # otherwise use numalg2 algorithm\n",
    "        if len(auth_keys_peer_did) == 1 and not agreem_keys_peer_did and not service:\n",
    "            did = peer_did.create_peer_did_numalgo_0(auth_keys_peer_did[0])\n",
    "        else:\n",
    "            did = peer_did.create_peer_did_numalgo_2(\n",
    "                encryption_keys=agreem_keys_peer_did,\n",
    "                signing_keys=auth_keys_peer_did,\n",
    "                service=service,\n",
    "            )\n",
    "\n",
    "        # 5. set KIDs as in DID DOC for secrets and store the secret in the secrets resolver\n",
    "        did_doc = DIDDocPeerDID.from_json(peer_did.resolve_peer_did(did))\n",
    "        for auth_key, kid in zip(auth_keys, did_doc.auth_kids):\n",
    "            private_key = auth_key[0]\n",
    "            private_key[\"kid\"] = kid\n",
    "            await secrets_resolver.add_key(jwk_to_secret(private_key))\n",
    "\n",
    "        for agreem_key, kid in zip(agreem_keys, did_doc.agreement_kids):\n",
    "            private_key = agreem_key[0]\n",
    "            private_key[\"kid\"] = kid\n",
    "            await secrets_resolver.add_key(jwk_to_secret(private_key))\n",
    "\n",
    "        return did\n"
   ]
  },
  {
   "cell_type": "markdown",
   "metadata": {},
   "source": [
    "### Alice get OOB from Mediator"
   ]
  },
  {
   "cell_type": "code",
   "execution_count": 649,
   "metadata": {},
   "outputs": [],
   "source": [
    "#oob_url = requests.get(\"http://127.0.0.1:8000/oob_url\").text\n",
    "oob_url = requests.get(\"https://mediator.rootsid.cloud/oob_url\").text"
   ]
  },
  {
   "cell_type": "code",
   "execution_count": 650,
   "metadata": {},
   "outputs": [
    {
     "name": "stdout",
     "output_type": "stream",
     "text": [
      "https://mediator.rootsid.cloud?_oob=eyJ0eXBlIjoiaHR0cHM6Ly9kaWRjb21tLm9yZy9vdXQtb2YtYmFuZC8yLjAvaW52aXRhdGlvbiIsImlkIjoiNzk0Mjc4MzctY2MwNi00ODUzLWJiMzktNjg2ZWFjM2U2YjlhIiwiZnJvbSI6ImRpZDpwZWVyOjIuRXo2TFNtczU1NVloRnRobjFXVjhjaURCcFptODZoSzl0cDgzV29qSlVteFBHazFoWi5WejZNa21kQmpNeUI0VFM1VWJiUXc1NHN6bTh5dk1NZjFmdEdWMnNRVllBeGFlV2hFLlNleUpwWkNJNkltNWxkeTFwWkNJc0luUWlPaUprYlNJc0luTWlPaUpvZEhSd2N6b3ZMMjFsWkdsaGRHOXlMbkp2YjNSemFXUXVZMnh2ZFdRaUxDSmhJanBiSW1ScFpHTnZiVzB2ZGpJaVhYMCIsImJvZHkiOnsiZ29hbF9jb2RlIjoicmVxdWVzdC1tZWRpYXRlIiwiZ29hbCI6IlJlcXVlc3RNZWRpYXRlIiwibGFiZWwiOiJNZWRpYXRvciIsImFjY2VwdCI6WyJkaWRjb21tL3YyIl19fQ\n"
     ]
    }
   ],
   "source": [
    "print(oob_url)"
   ]
  },
  {
   "cell_type": "code",
   "execution_count": 651,
   "metadata": {},
   "outputs": [
    {
     "name": "stdout",
     "output_type": "stream",
     "text": [
      "Alice's DID: did:peer:2.Ez6LSnPMs71uWDN6UY9pVjoBEWS9pP6SSxoQAZnvnRn4bpH6y.Vz6MkrBgzPPvHc6PkAc61GYZU6yyGtagvnLGAgvvXZ3ve3pbz\n",
      "{'type': 'https://didcomm.org/out-of-band/2.0/invitation', 'id': '79427837-cc06-4853-bb39-686eac3e6b9a', 'from': 'did:peer:2.Ez6LSms555YhFthn1WV8ciDBpZm86hK9tp83WojJUmxPGk1hZ.Vz6MkmdBjMyB4TS5UbbQw54szm8yvMMf1ftGV2sQVYAxaeWhE.SeyJpZCI6Im5ldy1pZCIsInQiOiJkbSIsInMiOiJodHRwczovL21lZGlhdG9yLnJvb3RzaWQuY2xvdWQiLCJhIjpbImRpZGNvbW0vdjIiXX0', 'body': {'goal_code': 'request-mediate', 'goal': 'RequestMediate', 'label': 'Mediator', 'accept': ['didcomm/v2']}}\n"
     ]
    }
   ],
   "source": [
    "received_msg_encoded = oob_url.split(\"=\")[1]\n",
    "received_msg_decoded = json.loads(str(base64.urlsafe_b64decode(received_msg_encoded + \"==\"), \"utf-8\"))\n",
    "alice_did_for_mediator = await create_peer_did(1,1)\n",
    "print(\"Alice's DID:\", alice_did_for_mediator)\n",
    "print(received_msg_decoded)"
   ]
  },
  {
   "cell_type": "markdown",
   "metadata": {},
   "source": [
    "### Alice request mediate"
   ]
  },
  {
   "cell_type": "code",
   "execution_count": 652,
   "metadata": {},
   "outputs": [],
   "source": [
    "alice_mediate_grant = Message(\n",
    "    custom_headers = [{\"return_route\": \"all\"}],\n",
    "    id = str(uuid.uuid4()),\n",
    "    type = \"https://didcomm.org/coordinate-mediation/2.0/mediate-request\",\n",
    "    body = {}\n",
    ")"
   ]
  },
  {
   "cell_type": "code",
   "execution_count": 653,
   "metadata": {},
   "outputs": [],
   "source": [
    "alice_mediate_grant_packed = await pack_encrypted(\n",
    "    resolvers_config = ResolversConfig(\n",
    "        secrets_resolver = secrets_resolver,\n",
    "        did_resolver = DIDResolverPeerDID()\n",
    "    ),\n",
    "    message = alice_mediate_grant,\n",
    "    frm = alice_did_for_mediator,\n",
    "    to = received_msg_decoded[\"from\"],\n",
    "    sign_frm = None,\n",
    "    pack_config = PackEncryptedConfig(protect_sender_id=False)\n",
    ")"
   ]
  },
  {
   "cell_type": "markdown",
   "metadata": {},
   "source": [
    "### Sending to Mediator"
   ]
  },
  {
   "cell_type": "code",
   "execution_count": 654,
   "metadata": {},
   "outputs": [
    {
     "name": "stdout",
     "output_type": "stream",
     "text": [
      "{'id': 'did:peer:2.Ez6LSms555YhFthn1WV8ciDBpZm86hK9tp83WojJUmxPGk1hZ.Vz6MkmdBjMyB4TS5UbbQw54szm8yvMMf1ftGV2sQVYAxaeWhE.SeyJpZCI6Im5ldy1pZCIsInQiOiJkbSIsInMiOiJodHRwczovL21lZGlhdG9yLnJvb3RzaWQuY2xvdWQiLCJhIjpbImRpZGNvbW0vdjIiXX0', 'authentication': [{'id': 'did:peer:2.Ez6LSms555YhFthn1WV8ciDBpZm86hK9tp83WojJUmxPGk1hZ.Vz6MkmdBjMyB4TS5UbbQw54szm8yvMMf1ftGV2sQVYAxaeWhE.SeyJpZCI6Im5ldy1pZCIsInQiOiJkbSIsInMiOiJodHRwczovL21lZGlhdG9yLnJvb3RzaWQuY2xvdWQiLCJhIjpbImRpZGNvbW0vdjIiXX0#6MkmdBjMyB4TS5UbbQw54szm8yvMMf1ftGV2sQVYAxaeWhE', 'type': 'Ed25519VerificationKey2020', 'controller': 'did:peer:2.Ez6LSms555YhFthn1WV8ciDBpZm86hK9tp83WojJUmxPGk1hZ.Vz6MkmdBjMyB4TS5UbbQw54szm8yvMMf1ftGV2sQVYAxaeWhE.SeyJpZCI6Im5ldy1pZCIsInQiOiJkbSIsInMiOiJodHRwczovL21lZGlhdG9yLnJvb3RzaWQuY2xvdWQiLCJhIjpbImRpZGNvbW0vdjIiXX0', 'publicKeyMultibase': 'z6MkmdBjMyB4TS5UbbQw54szm8yvMMf1ftGV2sQVYAxaeWhE'}], 'keyAgreement': [{'id': 'did:peer:2.Ez6LSms555YhFthn1WV8ciDBpZm86hK9tp83WojJUmxPGk1hZ.Vz6MkmdBjMyB4TS5UbbQw54szm8yvMMf1ftGV2sQVYAxaeWhE.SeyJpZCI6Im5ldy1pZCIsInQiOiJkbSIsInMiOiJodHRwczovL21lZGlhdG9yLnJvb3RzaWQuY2xvdWQiLCJhIjpbImRpZGNvbW0vdjIiXX0#6LSms555YhFthn1WV8ciDBpZm86hK9tp83WojJUmxPGk1hZ', 'type': 'X25519KeyAgreementKey2020', 'controller': 'did:peer:2.Ez6LSms555YhFthn1WV8ciDBpZm86hK9tp83WojJUmxPGk1hZ.Vz6MkmdBjMyB4TS5UbbQw54szm8yvMMf1ftGV2sQVYAxaeWhE.SeyJpZCI6Im5ldy1pZCIsInQiOiJkbSIsInMiOiJodHRwczovL21lZGlhdG9yLnJvb3RzaWQuY2xvdWQiLCJhIjpbImRpZGNvbW0vdjIiXX0', 'publicKeyMultibase': 'z6LSms555YhFthn1WV8ciDBpZm86hK9tp83WojJUmxPGk1hZ'}], 'service': [{'id': 'did:peer:2.Ez6LSms555YhFthn1WV8ciDBpZm86hK9tp83WojJUmxPGk1hZ.Vz6MkmdBjMyB4TS5UbbQw54szm8yvMMf1ftGV2sQVYAxaeWhE.SeyJpZCI6Im5ldy1pZCIsInQiOiJkbSIsInMiOiJodHRwczovL21lZGlhdG9yLnJvb3RzaWQuY2xvdWQiLCJhIjpbImRpZGNvbW0vdjIiXX0#didcommmessaging-0', 'type': 'DIDCommMessaging', 'serviceEndpoint': 'https://mediator.rootsid.cloud', 'accept': ['didcomm/v2']}]}\n"
     ]
    }
   ],
   "source": [
    "\n",
    "mediator_did_doc = json.loads(peer_did.resolve_peer_did(received_msg_decoded[\"from\"]))\n",
    "mediator_endpoint = mediator_did_doc[\"service\"][0][\"serviceEndpoint\"]\n",
    "print(mediator_did_doc)"
   ]
  },
  {
   "cell_type": "code",
   "execution_count": 655,
   "metadata": {},
   "outputs": [],
   "source": [
    "headers = {\"Content-Type\": \"application/didcomm-encrypted+json\"}\n",
    "resp = requests.post(mediator_endpoint, headers=headers, json = json.loads(alice_mediate_grant_packed.packed_msg))\n"
   ]
  },
  {
   "cell_type": "code",
   "execution_count": 656,
   "metadata": {},
   "outputs": [
    {
     "name": "stdout",
     "output_type": "stream",
     "text": [
      "{'protected': 'eyJ0eXAiOiJhcHBsaWNhdGlvbi9kaWRjb21tLWVuY3J5cHRlZCtqc29uIiwiYWxnIjoiRUNESC0xUFUrQTI1NktXIiwiZW5jIjoiQTI1NkNCQy1IUzUxMiIsImFwdSI6IlpHbGtPbkJsWlhJNk1pNUZlalpNVTIxd01tVjVja0pYUkRaa016Vk5aRTB4ZG1WSVNHRkVOVGh2TVdoelV6WlJPVkpaYlZCaWIxVllZVTVCTGxaNk5rMXJjREpTV0d0bFNuUTBRa2g2VVZGMlkwUjFPRzVSUnpoemNIQnFURkJVUkRodWMweFhha3REWVRORVRIRXVVMlY1U25CYVEwazJTVzAxYkdSNU1YQmFRMGx6U1c1UmFVOXBTbXRpVTBselNXNU5hVTlwU205a1NGSjNZM3B2ZGt3eU1XeGFSMnhvWkVjNWVVeHVTblppTTFKNllWZFJkVmt5ZUhaa1YxRnBURU5LYUVscWNHSkpiVkp3V2tkT2RtSlhNSFprYWtscFdGZ3dJelpNVTIxd01tVjVja0pYUkRaa016Vk5aRTB4ZG1WSVNHRkVOVGh2TVdoelV6WlJPVkpaYlZCaWIxVllZVTVCIiwiYXB2IjoiV000S1FKYThVcUR0ZWtTS1J5dXd3UnhZY0pDSGtZUDFUU2hRQUlxbWlyMCIsInNraWQiOiJkaWQ6cGVlcjoyLkV6NkxTbXAyZXlyQldENmQzNU1kTTF2ZUhIYUQ1OG8xaHNTNlE5UlltUGJvVVhhTkEuVno2TWtwMlJYa2VKdDRCSHpRUXZjRHU4blFHOHNwcGpMUFREOG5zTFdqS0NhM0RMcS5TZXlKcFpDSTZJbTVsZHkxcFpDSXNJblFpT2lKa2JTSXNJbk1pT2lKb2RIUndjem92TDIxbFpHbGhkRzl5TG5KdmIzUnphV1F1WTJ4dmRXUWlMQ0poSWpwYkltUnBaR052YlcwdmRqSWlYWDAjNkxTbXAyZXlyQldENmQzNU1kTTF2ZUhIYUQ1OG8xaHNTNlE5UlltUGJvVVhhTkEiLCJlcGsiOnsiY3J2IjoiWDI1NTE5IiwieCI6ImFiWHJDeWM0WWFFdjVCSkY4OEZpOWZWTERtR2xPN1dYLU5ZZHZLRkhtQlkiLCJrdHkiOiJPS1AifX0', 'recipients': [{'header': {'kid': 'did:peer:2.Ez6LSnPMs71uWDN6UY9pVjoBEWS9pP6SSxoQAZnvnRn4bpH6y.Vz6MkrBgzPPvHc6PkAc61GYZU6yyGtagvnLGAgvvXZ3ve3pbz#6LSnPMs71uWDN6UY9pVjoBEWS9pP6SSxoQAZnvnRn4bpH6y'}, 'encrypted_key': 'wJwW2YYBaAH45e4_8VLjp14-pXCJHwUtr-dPF_irr3qH05zLoePUuYmDaVN0nBY20GWxUINRkC47zrFC9BQb_ddNwPAS1Q66'}], 'iv': 'nki45pB10j8M4PKE7c3Naw', 'ciphertext': 'IJJy7uNifZeUUSXYlooTjf1BhSp1WGEdeNEW7uJGg342IhvpLP8sjnxifkVaQQEUIFMpvuHd1cUumXw-0EwIQNpSJsjtdnowmfR47cb9wpO-dniuyXia74MaYqoB_p1jtOf5XJpd5FliSMuKv7h312vZqK4LuvHJHCioW3rtnX-xNaQS45b6VEpvcTrrIMVJ44A0CGDmc-vpeCIR6n6RDI-dbofzO_0STezcSjfXNamVjtYESrFt7-AGnt8YQFGmHBwiNM5zbImkttDp9tAhRHjS5OwRdtszOupgJ_HY8trwuQAcsDmvrx0XdVERXxlbKOtHVzt6JZeT1_B3MDHRo1jyFx4iTg5LdT1YhAhFx9kBoDMXo8OfK0qXBqX1_Hoi_r7tsK79P90ak_dPfhJEcHrEIpY0KoG0QjYeQSVKJn9VqvwzijJmCrOuK9Qo85usCRGNl_eOuwNMD_J__qM7lmsPiHu1Y8slDUyPxHskiR9ne6HVpUO-v82f6aPMpqQQqL3SZEt0ibAC-L_wsY47gsClMiwWMRgRl9VQsv7KbF0JreicgieXcLebgaC9j_229Azs818dmpxEqb3wQvA-PrpBZaYKpVWuwQbz58DuBxD2RpmxGchB4BwQ2o00Ea7dub7Hs_rsqoo04JTHfK__C-qEU1ysc7dRAPPvLN3MhjBldXzu_9x1TH_C8bLfS2n6GPDrlBQl88h2w_b7EA_gQ65LsxPrmlJ7g1r5JJCo1O-VqOPJE7RFIA9Os45h5g07YyosdEsWNX2tG1EMr1I6huNutySMFTz05BU_AVUsQSl0QSkV1h-LV_Rf8Wh03CI9KgOThhvSEV5bKwjeMaZFURuaPPa0tN0dnoVMYWsEPDZIHblW2dZG9TTFi1TRE9L6GWFMsRPJ-FPEJ89PLuPDBfOCj7BcSz4ptNi6pUGk0LDyds1-FchxJrIA1OHQyroY4YBQ0bcRB9fQBsg5gmM7A-E2UJ04EytoKdk-pk-k5gkaoUnWPVgYZlOvl3OGNO7NoDW_oukaYLFNWzQ0gm4gmx9oTOi-2NW8Zu4vDBRWX5FV-KSWtL0PT0MpB_RA868MDoW7JmZ2CluERql2TUupOINRMvOIrfXHS2I6EHOiuIUTxIxmmIPW0WuYHKGG_Gsx_Rwq5aco8tbVhbTOTTqLTrpxknsR5-UA7T9OkAg0kq5YwS74uYh-o-hmQaWuqHMKltlSHkIXoiplVIifpFpkJg3O-71VIgF9QG7vBT4ntwKOdhjCN8IoIHm-wmZl-n2dbq-0fQo67VUEsaiDzBLjN8P-Dree0-Odj681zX0oloTJJlQhGvnZshLnReT7RiJ8jTJds5HRsw0B2bBMMmw3kTFypAgOx4VdRN2Uwdx06U1iU_Qf3JBozpRL1zSBeQ6uFquxdEZ5ZsxdCstf0Ylokjbqfpu8iLzRg2uKAwObpJ36viw3MWu3RWd1UJM4KiRquJ9hgB-G0UDWvZxJgIcWvpcUVZjZOkR1vrCb83WDgfUZ1OqfTAdEtDJ4jvXwhSrZkJVkJJ2XUKVbUPkIhs4k0fu7ojX4z8hvgjBFOzEzBg9iTxmiOJRL6-idqWGIP5ssuvqnyBzwijFk1QK83mgV7mOuTfD6YRIEG1GvOShLwE-0buy6HmNztOsKhAQShUn8izzpCjmdo_ZRA7Lq9EmEg80yN-r6GOApiZAYVIB86TFOoEUgtgWSxHWW3Kg6_Sg7T4aHVPYr_6C9Q9A-2TQhjNemJjChVoXCvgyn_WgZVKEyB-Ihlpgxzyd6VE70If9yH4fMzYCttLpoWrBODQS2iZ0NIUsKz_P-TuiJhpF6Hmuh7XxBULdIyPxz7B-O3RjK2ko1gB6TQ2n8Q_1sMf-5CtFfsGFcG0glY-YtftGCiZKshQILZgoepAu-cFexAfj9IRLfAZQxHw9ST_ssSUkD7XGeIEd87YLBH1RITH3We5w9veLxFwFoPnsZgtGVaT1fCRRhq0Q1RQVQC_jRVZHSzA4Y_i1_iFYVlmPQONXTv1s', 'tag': 'vnoG10a4fP-xXA1Hc65cCfwzkh0t-hLK1bwsbOqvqeA'}\n"
     ]
    }
   ],
   "source": [
    "print(resp.json())"
   ]
  },
  {
   "cell_type": "markdown",
   "metadata": {},
   "source": [
    "### Get mediator grant response"
   ]
  },
  {
   "cell_type": "code",
   "execution_count": 657,
   "metadata": {},
   "outputs": [
    {
     "name": "stdout",
     "output_type": "stream",
     "text": [
      "https://didcomm.org/coordinate-mediation/2.0/mediate-grant\n",
      "Routing Key: did:peer:2.Ez6LSjTa6gDXWTy9aPzaaqzisYexethq2htD6PPaTd2R9Zdeo.Vz6MkgejsAq3w3s7fSPjmPQ4JmDUGottEmR7MxBqcWyesrrwM.SeyJpZCI6Im5ldy1pZCIsInQiOiJkbSIsInMiOiJodHRwczovL21lZGlhdG9yLnJvb3RzaWQuY2xvdWQiLCJhIjpbImRpZGNvbW0vdjIiXX0\n",
      "Mediator new DID: did:peer:2.Ez6LSmp2eyrBWD6d35MdM1veHHaD58o1hsS6Q9RYmPboUXaNA.Vz6Mkp2RXkeJt4BHzQQvcDu8nQG8sppjLPTD8nsLWjKCa3DLq.SeyJpZCI6Im5ldy1pZCIsInQiOiJkbSIsInMiOiJodHRwczovL21lZGlhdG9yLnJvb3RzaWQuY2xvdWQiLCJhIjpbImRpZGNvbW0vdjIiXX0\n"
     ]
    }
   ],
   "source": [
    "mediator_unpack_msg = await unpack(\n",
    "    resolvers_config=ResolversConfig(\n",
    "        secrets_resolver=secrets_resolver,\n",
    "        did_resolver=DIDResolverPeerDID()\n",
    "    ),\n",
    "    packed_msg= resp.json()\n",
    ")\n",
    "print(mediator_unpack_msg.message.type)\n",
    "print(\"Routing Key: \" + mediator_unpack_msg.message.body[\"routing_did\"])\n",
    "print(\"Mediator new DID: \" + mediator_unpack_msg.message.from_prior.sub)\n",
    "# mediator rotated did\n",
    "mediator_routing_key = mediator_unpack_msg.message.body[\"routing_did\"]\n",
    "mediator_did = mediator_unpack_msg.message.from_prior.sub"
   ]
  },
  {
   "cell_type": "markdown",
   "metadata": {},
   "source": [
    "### Keylist update"
   ]
  },
  {
   "cell_type": "markdown",
   "metadata": {},
   "source": [
    "Alice create a new DID to share with  other peers using mediator routing keys "
   ]
  },
  {
   "cell_type": "code",
   "execution_count": 712,
   "metadata": {},
   "outputs": [
    {
     "name": "stdout",
     "output_type": "stream",
     "text": [
      "Alice's DID for Bob: did:peer:2.Ez6LSd1naudB3T2PYA4G5NtkZaEiQKZMdZXFxHEGUECoWahGt.Vz6MkqXrYaNZAa5dtLi2wurXcDU9khMmTQGXed8RT17rTRwyt.SeyJpZCI6Im5ldy1pZCIsInQiOiJkbSIsInMiOiJkaWQ6cGVlcjoyLkV6NkxTalRhNmdEWFdUeTlhUHphYXF6aXNZZXhldGhxMmh0RDZQUGFUZDJSOVpkZW8uVno2TWtnZWpzQXEzdzNzN2ZTUGptUFE0Sm1EVUdvdHRFbVI3TXhCcWNXeWVzcnJ3TS5TZXlKcFpDSTZJbTVsZHkxcFpDSXNJblFpT2lKa2JTSXNJbk1pT2lKb2RIUndjem92TDIxbFpHbGhkRzl5TG5KdmIzUnphV1F1WTJ4dmRXUWlMQ0poSWpwYkltUnBaR052YlcwdmRqSWlYWDAiLCJhIjpbImRpZGNvbW0vdjIiXX0\n"
     ]
    }
   ],
   "source": [
    "#alice_did_new = await create_peer_did(1, 1, service_endpoint=mediator_endpoint, service_routing_keys=[mediator_routing_key])\n",
    "#alice_did_for_bob = await create_peer_did(1, 1, service_endpoint=[{\"uri\": mediator_routing_key}])\n",
    "alice_did_for_bob = await create_peer_did(1, 1, service_endpoint=mediator_routing_key)\n",
    "\n",
    "\n",
    "print(\"Alice's DID for Bob:\", alice_did_for_bob)"
   ]
  },
  {
   "cell_type": "markdown",
   "metadata": {},
   "source": [
    "Alice create and send the keylist update message"
   ]
  },
  {
   "cell_type": "code",
   "execution_count": 713,
   "metadata": {},
   "outputs": [],
   "source": [
    "alice_keylist_update = Message(\n",
    "    id = \"unique-id-293e9a922efff\",\n",
    "    type = \"https://didcomm.org/coordinate-mediation/2.0/keylist-update\",\n",
    "    body = {\n",
    "        \"updates\":[\n",
    "        {\n",
    "            \"recipient_did\": alice_did_for_bob,\n",
    "            \"action\": \"add\"\n",
    "        }\n",
    "    ]\n",
    "    }\n",
    ")"
   ]
  },
  {
   "cell_type": "code",
   "execution_count": 714,
   "metadata": {},
   "outputs": [],
   "source": [
    "alice_keylist_update_packed_msg = await pack_encrypted(\n",
    "    resolvers_config = ResolversConfig(\n",
    "        secrets_resolver = secrets_resolver,\n",
    "        did_resolver = DIDResolverPeerDID()\n",
    "    ),\n",
    "    message = alice_keylist_update,\n",
    "    frm = alice_did_for_mediator,\n",
    "    to = mediator_did,\n",
    "    sign_frm = None,\n",
    "    pack_config = PackEncryptedConfig(protect_sender_id=False)\n",
    ")"
   ]
  },
  {
   "cell_type": "code",
   "execution_count": 715,
   "metadata": {},
   "outputs": [],
   "source": [
    "headers = {\"Content-Type\": \"application/didcomm-encrypted+json\"}\n",
    "resp = requests.post(mediator_endpoint, headers=headers, data = alice_keylist_update_packed_msg.packed_msg)"
   ]
  },
  {
   "cell_type": "code",
   "execution_count": 716,
   "metadata": {},
   "outputs": [
    {
     "name": "stdout",
     "output_type": "stream",
     "text": [
      "https://didcomm.org/coordinate-mediation/2.0/keylist-update-response\n",
      "{'updated': [{'recipient_did': 'did:peer:2.Ez6LSd1naudB3T2PYA4G5NtkZaEiQKZMdZXFxHEGUECoWahGt.Vz6MkqXrYaNZAa5dtLi2wurXcDU9khMmTQGXed8RT17rTRwyt.SeyJpZCI6Im5ldy1pZCIsInQiOiJkbSIsInMiOiJkaWQ6cGVlcjoyLkV6NkxTalRhNmdEWFdUeTlhUHphYXF6aXNZZXhldGhxMmh0RDZQUGFUZDJSOVpkZW8uVno2TWtnZWpzQXEzdzNzN2ZTUGptUFE0Sm1EVUdvdHRFbVI3TXhCcWNXeWVzcnJ3TS5TZXlKcFpDSTZJbTVsZHkxcFpDSXNJblFpT2lKa2JTSXNJbk1pT2lKb2RIUndjem92TDIxbFpHbGhkRzl5TG5KdmIzUnphV1F1WTJ4dmRXUWlMQ0poSWpwYkltUnBaR052YlcwdmRqSWlYWDAiLCJhIjpbImRpZGNvbW0vdjIiXX0', 'action': 'add', 'result': 'success'}]}\n"
     ]
    }
   ],
   "source": [
    "mediator_unpack_msg2 = await unpack(\n",
    "    resolvers_config=ResolversConfig(\n",
    "        secrets_resolver=secrets_resolver,\n",
    "        did_resolver=DIDResolverPeerDID()\n",
    "    ),\n",
    "    packed_msg= resp.json()\n",
    ")\n",
    "print(mediator_unpack_msg2.message.type)\n",
    "print(mediator_unpack_msg2.message.body)\n"
   ]
  },
  {
   "cell_type": "markdown",
   "metadata": {},
   "source": [
    "### Alice can now send her DID to Bob."
   ]
  },
  {
   "cell_type": "markdown",
   "metadata": {},
   "source": [
    "### Alice check status of queued messages from the Mediator"
   ]
  },
  {
   "cell_type": "code",
   "execution_count": 361,
   "metadata": {},
   "outputs": [],
   "source": [
    "alice_status_check = Message(\n",
    "    id = \"unique-id-293e9a922efffxxx\",\n",
    "    type = \"https://didcomm.org/messagepickup/3.0/status-request\",\n",
    "    body = {}\n",
    ")"
   ]
  },
  {
   "cell_type": "code",
   "execution_count": 362,
   "metadata": {},
   "outputs": [],
   "source": [
    "alice_status_check_packed_msg = await pack_encrypted(\n",
    "    resolvers_config = ResolversConfig(\n",
    "        secrets_resolver = secrets_resolver,\n",
    "        did_resolver = DIDResolverPeerDID()\n",
    "    ),\n",
    "    message = alice_status_check,\n",
    "    to = mediator_did,\n",
    "    frm = alice_did_for_mediator,\n",
    "    sign_frm = None,\n",
    "    pack_config = PackEncryptedConfig(protect_sender_id=False)\n",
    ")\n",
    "headers = {\"Content-Type\": \"application/didcomm-encrypted+json\"}\n",
    "resp3 = requests.post(mediator_endpoint, headers=headers, data = alice_status_check_packed_msg.packed_msg)"
   ]
  },
  {
   "cell_type": "code",
   "execution_count": 363,
   "metadata": {},
   "outputs": [
    {
     "name": "stdout",
     "output_type": "stream",
     "text": [
      "https://didcomm.org/messagepickup/3.0/status\n",
      "Messages in Mediator queue: 1\n"
     ]
    }
   ],
   "source": [
    "mediator_unpack_status = await unpack(\n",
    "    resolvers_config=ResolversConfig(\n",
    "        secrets_resolver=secrets_resolver,\n",
    "        did_resolver=DIDResolverPeerDID()\n",
    "    ),\n",
    "    packed_msg= resp3.json()\n",
    ")\n",
    "print(mediator_unpack_status.message.type)\n",
    "print(\"Messages in Mediator queue: \" + str(mediator_unpack_status.message.body[\"message_count\"]))"
   ]
  },
  {
   "cell_type": "markdown",
   "metadata": {},
   "source": [
    "### If there are messages, Alice can pickup from the mediator (delivery request)"
   ]
  },
  {
   "cell_type": "code",
   "execution_count": 364,
   "metadata": {},
   "outputs": [],
   "source": [
    "alice_delivery_request = Message(\n",
    "    id = \"unique-id-293e9a922efffxxxff\",\n",
    "    type = \"https://didcomm.org/messagepickup/3.0/delivery-request\",\n",
    "    body = {\"limit\": 1}\n",
    ")"
   ]
  },
  {
   "cell_type": "code",
   "execution_count": 365,
   "metadata": {},
   "outputs": [],
   "source": [
    "alice_delivery_request_packed_msg = await pack_encrypted(\n",
    "    resolvers_config = ResolversConfig(\n",
    "        secrets_resolver = secrets_resolver,\n",
    "        did_resolver = DIDResolverPeerDID()\n",
    "    ),\n",
    "    message = alice_delivery_request,\n",
    "    to = mediator_did,\n",
    "    frm = alice_did_for_mediator,\n",
    "    sign_frm = None,\n",
    "    pack_config = PackEncryptedConfig(protect_sender_id=False)\n",
    ")\n",
    "headers = {\"Content-Type\": \"application/didcomm-encrypted+json\"}\n",
    "resp4 = requests.post(mediator_endpoint, headers=headers, data = alice_delivery_request_packed_msg.packed_msg)"
   ]
  },
  {
   "cell_type": "code",
   "execution_count": 366,
   "metadata": {},
   "outputs": [
    {
     "name": "stdout",
     "output_type": "stream",
     "text": [
      "https://didcomm.org/messagepickup/3.0/delivery\n",
      "{'recipient_key': None}\n"
     ]
    }
   ],
   "source": [
    "mediator_delivery = await unpack(\n",
    "    resolvers_config=ResolversConfig(\n",
    "        secrets_resolver=secrets_resolver,\n",
    "        did_resolver=DIDResolverPeerDID()\n",
    "    ),\n",
    "    packed_msg= resp4.json()\n",
    ")\n",
    "print(mediator_delivery.message.type)\n",
    "print(mediator_delivery.message.body)"
   ]
  },
  {
   "cell_type": "code",
   "execution_count": 367,
   "metadata": {},
   "outputs": [],
   "source": [
    "bob_packed_msg = mediator_delivery.message.attachments[0].data.json\n",
    "msg_id = mediator_delivery.message.attachments[0].id"
   ]
  },
  {
   "cell_type": "code",
   "execution_count": 368,
   "metadata": {},
   "outputs": [
    {
     "name": "stdout",
     "output_type": "stream",
     "text": [
      "{'protected': 'eyJ0eXAiOiJhcHBsaWNhdGlvbi9kaWRjb21tLWVuY3J5cHRlZCtqc29uIiwiYWxnIjoiRUNESC0xUFUrQTI1NktXIiwiZW5jIjoiQTI1NkNCQy1IUzUxMiIsImFwdSI6IlpHbGtPbkJsWlhJNk1pNUZlalpNVTNSTFpGZFhSVEpWUTBWcFMxWlNZVXhoUkRWT1JsaGhhRVJIWjFreGQzbHhaVFZUVUVSTVZGbE1PV2hCTGxaNk5rMXJaak5FVlhjME1YWmxkMmxGUmpWSFJGcDZkazF1TVc1aU1WRm9ZMUpLZUZKWmJqY3hZbmswYW5ReVdqWXVVMlY1U25CYVEwazJTVzAxYkdSNU1YQmFRMGx6U1c1UmFVOXBTbXRpVTBselNXNU5hVTlwU205a1NGSjNZM3B2ZGt3elpETmtlVFZzWlVkR2RHTkhlR3hNYlU1MllsTTVhV0l5U1dsTVEwcG9TV3B3WWtsdFVuQmFSMDUyWWxjd2RtUnFTV2xZV0RBak5reFRkRXRrVjFkRk1sVkRSV2xMVmxKaFRHRkVOVTVHV0dGb1JFZG5XVEYzZVhGbE5WTlFSRXhVV1V3NWFFRSIsImFwdiI6IlJzZ3d4Zm5jbndGQXBmekNrbGdIYWFodFItRjJwSDRwS2RNRVNVWFE5ZWsiLCJza2lkIjoiZGlkOnBlZXI6Mi5FejZMU3RLZFdXRTJVQ0VpS1ZSYUxhRDVORlhhaERHZ1kxd3lxZTVTUERMVFlMOWhBLlZ6Nk1rZjNEVXc0MXZld2lFRjVHRFp6dk1uMW5iMVFoY1JKeFJZbjcxYnk0anQyWjYuU2V5SnBaQ0k2SW01bGR5MXBaQ0lzSW5RaU9pSmtiU0lzSW5NaU9pSm9kSFJ3Y3pvdkwzZDNkeTVsZUdGdGNHeGxMbU52YlM5aWIySWlMQ0poSWpwYkltUnBaR052YlcwdmRqSWlYWDAjNkxTdEtkV1dFMlVDRWlLVlJhTGFENU5GWGFoREdnWTF3eXFlNVNQRExUWUw5aEEiLCJlcGsiOnsiY3J2IjoiWDI1NTE5IiwieCI6IjdybEhPRFBtNWl3cVdqYjJ3SFA0VXlyY2F4STE2ejI5d1R4WHYzLVg1bnMiLCJrdHkiOiJPS1AifX0', 'recipients': [{'header': {'kid': 'did:peer:2.Ez6LSkkPFYzgmT3xhBXHqbGfx5L3r7zoEbh68rsXi6fWxazRb.Vz6MksiuztcZwGLMiUt5tKLsREF4Js1DoGrzY6u4DNej9o1yV.SeyJpZCI6Im5ldy1pZCIsInQiOiJkbSIsInMiOiJkaWQ6cGVlcjoyLkV6NkxTbmR1ODVZdzNNY3pDRDJSNnFKdnI5VDU0VWFkdEhLTlluWmg3NVU4Zk5BVkQuVno2TWtuMzFjNGt3QjJGOFlDTmk2bjF5clFMVW94VEt2RFRDY2twcEtvS3VLQkFjVi5TZXlKcFpDSTZJbTVsZHkxcFpDSXNJblFpT2lKa2JTSXNJbk1pT2lKb2RIUndjem92TDIxbFpHbGhkRzl5TG5KdmIzUnphV1F1WTJ4dmRXUWlMQ0poSWpwYkltUnBaR052YlcwdmRqSWlYWDAiLCJhIjpbImRpZGNvbW0vdjIiXSwiciI6WyJhc2QiXX0#6LSkkPFYzgmT3xhBXHqbGfx5L3r7zoEbh68rsXi6fWxazRb'}, 'encrypted_key': '8rvW8LTwZFBjZ8udzJD2hqLjKT7PvGRunzHj6Zb7yy8Sd8IA9AVjzLSWrY9e1DP_7wX-amRWFXjoBHoosl2sFZSHw_dLxT1I'}], 'iv': 'IsQ2nCdaCxL9JjLOIW4FlQ', 'ciphertext': 'KwT6ICa0WnDyT8RqvYMhgMeplqvUv1Z97LjXsx0Vm583M7LG4cvuW-vl_SxhgY4YVo9e5a8NhnscK2RinZNQfzFK_jeZfK64jyP-iJeui9Mg6ooarP0FDKKlieNBJl0bJ89k_9D7IPzsaRopVPpj41pOIx9X1Ihym5yrvbxPv0EHXClY9-dEQ3QnEhQLFwdgO6dlahQWVLEgZliXRTuegEzmltyIg5n6bflrEebJPQ59nXpK_pA1Go1bW8mGgSm0kS5gV7Of-_BW9M-KbBjOQXzOeJ1A-G4vl__oRw6-eY3cUl_c5TXMBx_yurr-Eenk', 'tag': 'l2nFcjGmzWUFlXOsTs4yPNenYWMvkXPS45HYCZvpvvA'}\n"
     ]
    }
   ],
   "source": [
    "print(bob_packed_msg)"
   ]
  },
  {
   "cell_type": "code",
   "execution_count": 369,
   "metadata": {},
   "outputs": [],
   "source": [
    "bob_msg = await unpack(\n",
    "    resolvers_config=ResolversConfig(\n",
    "        secrets_resolver=secrets_resolver,\n",
    "        did_resolver=DIDResolverPeerDID()\n",
    "    ),\n",
    "    packed_msg= bob_packed_msg\n",
    ")"
   ]
  },
  {
   "cell_type": "code",
   "execution_count": 370,
   "metadata": {},
   "outputs": [
    {
     "name": "stdout",
     "output_type": "stream",
     "text": [
      "Message ID: 63972feb6eee089c8c00a11a\n",
      "Argentina or Croacia at World Cup finals?\n"
     ]
    }
   ],
   "source": [
    "print(\"Message ID:\", msg_id)\n",
    "print(bob_msg.message.body[\"content\"])"
   ]
  },
  {
   "cell_type": "markdown",
   "metadata": {},
   "source": [
    "### Alice acknowledge so the mediator can delete the message"
   ]
  },
  {
   "cell_type": "code",
   "execution_count": 371,
   "metadata": {},
   "outputs": [],
   "source": [
    "alice_ack = Message(\n",
    "    id = \"unique-id-293e9a922efffxxxffsss\",\n",
    "    type = \"https://didcomm.org/messagepickup/3.0/messages-received\",\n",
    "    body = {\"message_id_list\": [msg_id]}\n",
    ")"
   ]
  },
  {
   "cell_type": "code",
   "execution_count": 372,
   "metadata": {},
   "outputs": [],
   "source": [
    "alice_ack_packed_msg = await pack_encrypted(\n",
    "    resolvers_config = ResolversConfig(\n",
    "        secrets_resolver = secrets_resolver,\n",
    "        did_resolver = DIDResolverPeerDID()\n",
    "    ),\n",
    "    message = alice_ack,\n",
    "    to = mediator_did,\n",
    "    frm = alice_did_for_mediator,\n",
    "    sign_frm = None,\n",
    "    pack_config = PackEncryptedConfig(protect_sender_id=False)\n",
    ")\n",
    "headers = {\"Content-Type\": \"application/didcomm-encrypted+json\"}\n",
    "resp5 = requests.post(mediator_endpoint, headers=headers, data = alice_ack_packed_msg.packed_msg)"
   ]
  },
  {
   "cell_type": "code",
   "execution_count": 373,
   "metadata": {},
   "outputs": [
    {
     "name": "stdout",
     "output_type": "stream",
     "text": [
      "https://didcomm.org/messagepickup/3.0/status\n",
      "{'message_count': 0, 'live_delivery': False}\n"
     ]
    }
   ],
   "source": [
    "mediator_ack_status = await unpack(\n",
    "    resolvers_config=ResolversConfig(\n",
    "        secrets_resolver=secrets_resolver,\n",
    "        did_resolver=DIDResolverPeerDID()\n",
    "    ),\n",
    "    packed_msg= resp5.json()\n",
    ")\n",
    "print(mediator_ack_status.message.type)\n",
    "print(mediator_ack_status.message.body)"
   ]
  },
  {
   "cell_type": "code",
   "execution_count": null,
   "metadata": {},
   "outputs": [],
   "source": []
  },
  {
   "cell_type": "markdown",
   "metadata": {},
   "source": [
    "## Alice receive invitation from Prism Agent"
   ]
  },
  {
   "cell_type": "code",
   "execution_count": 717,
   "metadata": {},
   "outputs": [],
   "source": [
    "oob_url_prism = \"https://domain.com/path?_oob=eyJpZCI6ImI2OTYyNzFjLTk3MjMtNDA5Ni04ZmNiLTgyN2VkNTRmYTliNCIsInR5cGUiOiJodHRwczovL2RpZGNvbW0ub3JnL291dC1vZi1iYW5kLzIuMC9pbnZpdGF0aW9uIiwiZnJvbSI6ImRpZDpwZWVyOjIuRXo2TFNmWDlYZWVVclhDaEc1eXpXdjJ4ZVBUa0pDdlc4aWJWeTZNd21qcW9jb2d4WS5WejZNa3RkcUdXcUdBejhkMlU1aWluRGRQM3lrY05jeFFqcU1XZnJ1RlJKaDZhZUU3LlNleUowSWpvaVpHMGlMQ0p6SWpvaWFIUjBjRG92THpFNU1pNHhOamd1T0RZdU5UTTZPREE0TUM5a2FXUmpiMjF0SWl3aWNpSTZXMTBzSW1FaU9sc2laR2xrWTI5dGJTOTJNaUpkZlEiLCJib2R5Ijp7ImdvYWxfY29kZSI6ImNvbm5lY3QiLCJnb2FsIjoiRXN0YWJsaXNoIGEgdHJ1c3QgY29ubmVjdGlvbiBiZXR3ZWVuIHR3byBwZWVycyIsImFjY2VwdCI6W119fQ==\""
   ]
  },
  {
   "cell_type": "code",
   "execution_count": 718,
   "metadata": {},
   "outputs": [
    {
     "name": "stdout",
     "output_type": "stream",
     "text": [
      "{'id': 'b696271c-9723-4096-8fcb-827ed54fa9b4', 'type': 'https://didcomm.org/out-of-band/2.0/invitation', 'from': 'did:peer:2.Ez6LSfX9XeeUrXChG5yzWv2xePTkJCvW8ibVy6MwmjqocogxY.Vz6MktdqGWqGAz8d2U5iinDdP3ykcNcxQjqMWfruFRJh6aeE7.SeyJ0IjoiZG0iLCJzIjoiaHR0cDovLzE5Mi4xNjguODYuNTM6ODA4MC9kaWRjb21tIiwiciI6W10sImEiOlsiZGlkY29tbS92MiJdfQ', 'body': {'goal_code': 'connect', 'goal': 'Establish a trust connection between two peers', 'accept': []}}\n"
     ]
    }
   ],
   "source": [
    "received_msg_encoded = oob_url_prism.split(\"=\")[1]\n",
    "received_msg_decoded = json.loads(str(base64.urlsafe_b64decode(received_msg_encoded + \"==\"), \"utf-8\"))\n",
    "print(received_msg_decoded)"
   ]
  },
  {
   "cell_type": "code",
   "execution_count": 719,
   "metadata": {},
   "outputs": [
    {
     "name": "stdout",
     "output_type": "stream",
     "text": [
      "{'id': 'did:peer:2.Ez6LSfX9XeeUrXChG5yzWv2xePTkJCvW8ibVy6MwmjqocogxY.Vz6MktdqGWqGAz8d2U5iinDdP3ykcNcxQjqMWfruFRJh6aeE7.SeyJ0IjoiZG0iLCJzIjoiaHR0cDovLzE5Mi4xNjguODYuNTM6ODA4MC9kaWRjb21tIiwiciI6W10sImEiOlsiZGlkY29tbS92MiJdfQ', 'authentication': [{'id': 'did:peer:2.Ez6LSfX9XeeUrXChG5yzWv2xePTkJCvW8ibVy6MwmjqocogxY.Vz6MktdqGWqGAz8d2U5iinDdP3ykcNcxQjqMWfruFRJh6aeE7.SeyJ0IjoiZG0iLCJzIjoiaHR0cDovLzE5Mi4xNjguODYuNTM6ODA4MC9kaWRjb21tIiwiciI6W10sImEiOlsiZGlkY29tbS92MiJdfQ#6MktdqGWqGAz8d2U5iinDdP3ykcNcxQjqMWfruFRJh6aeE7', 'type': 'Ed25519VerificationKey2020', 'controller': 'did:peer:2.Ez6LSfX9XeeUrXChG5yzWv2xePTkJCvW8ibVy6MwmjqocogxY.Vz6MktdqGWqGAz8d2U5iinDdP3ykcNcxQjqMWfruFRJh6aeE7.SeyJ0IjoiZG0iLCJzIjoiaHR0cDovLzE5Mi4xNjguODYuNTM6ODA4MC9kaWRjb21tIiwiciI6W10sImEiOlsiZGlkY29tbS92MiJdfQ', 'publicKeyMultibase': 'z6MktdqGWqGAz8d2U5iinDdP3ykcNcxQjqMWfruFRJh6aeE7'}], 'keyAgreement': [{'id': 'did:peer:2.Ez6LSfX9XeeUrXChG5yzWv2xePTkJCvW8ibVy6MwmjqocogxY.Vz6MktdqGWqGAz8d2U5iinDdP3ykcNcxQjqMWfruFRJh6aeE7.SeyJ0IjoiZG0iLCJzIjoiaHR0cDovLzE5Mi4xNjguODYuNTM6ODA4MC9kaWRjb21tIiwiciI6W10sImEiOlsiZGlkY29tbS92MiJdfQ#6LSfX9XeeUrXChG5yzWv2xePTkJCvW8ibVy6MwmjqocogxY', 'type': 'X25519KeyAgreementKey2020', 'controller': 'did:peer:2.Ez6LSfX9XeeUrXChG5yzWv2xePTkJCvW8ibVy6MwmjqocogxY.Vz6MktdqGWqGAz8d2U5iinDdP3ykcNcxQjqMWfruFRJh6aeE7.SeyJ0IjoiZG0iLCJzIjoiaHR0cDovLzE5Mi4xNjguODYuNTM6ODA4MC9kaWRjb21tIiwiciI6W10sImEiOlsiZGlkY29tbS92MiJdfQ', 'publicKeyMultibase': 'z6LSfX9XeeUrXChG5yzWv2xePTkJCvW8ibVy6MwmjqocogxY'}], 'service': [{'id': 'did:peer:2.Ez6LSfX9XeeUrXChG5yzWv2xePTkJCvW8ibVy6MwmjqocogxY.Vz6MktdqGWqGAz8d2U5iinDdP3ykcNcxQjqMWfruFRJh6aeE7.SeyJ0IjoiZG0iLCJzIjoiaHR0cDovLzE5Mi4xNjguODYuNTM6ODA4MC9kaWRjb21tIiwiciI6W10sImEiOlsiZGlkY29tbS92MiJdfQ#didcommmessaging-0', 'type': 'DIDCommMessaging', 'serviceEndpoint': 'http://192.168.86.53:8080/didcomm', 'routingKeys': [], 'accept': ['didcomm/v2']}]}\n",
      "http://192.168.86.53:8080/didcomm\n",
      "did:peer:2.Ez6LSfX9XeeUrXChG5yzWv2xePTkJCvW8ibVy6MwmjqocogxY.Vz6MktdqGWqGAz8d2U5iinDdP3ykcNcxQjqMWfruFRJh6aeE7.SeyJ0IjoiZG0iLCJzIjoiaHR0cDovLzE5Mi4xNjguODYuNTM6ODA4MC9kaWRjb21tIiwiciI6W10sImEiOlsiZGlkY29tbS92MiJdfQ\n"
     ]
    }
   ],
   "source": [
    "prism_did_doc = json.loads(peer_did.resolve_peer_did(received_msg_decoded[\"from\"]))\n",
    "prism_endpoint = prism_did_doc[\"service\"][0][\"serviceEndpoint\"]\n",
    "prism_did = received_msg_decoded[\"from\"]\n",
    "print(prism_did_doc)\n",
    "print(prism_endpoint)\n",
    "print(prism_did)"
   ]
  },
  {
   "cell_type": "code",
   "execution_count": 720,
   "metadata": {},
   "outputs": [
    {
     "name": "stdout",
     "output_type": "stream",
     "text": [
      "did:peer:2.Ez6LSd1naudB3T2PYA4G5NtkZaEiQKZMdZXFxHEGUECoWahGt.Vz6MkqXrYaNZAa5dtLi2wurXcDU9khMmTQGXed8RT17rTRwyt.SeyJpZCI6Im5ldy1pZCIsInQiOiJkbSIsInMiOiJkaWQ6cGVlcjoyLkV6NkxTalRhNmdEWFdUeTlhUHphYXF6aXNZZXhldGhxMmh0RDZQUGFUZDJSOVpkZW8uVno2TWtnZWpzQXEzdzNzN2ZTUGptUFE0Sm1EVUdvdHRFbVI3TXhCcWNXeWVzcnJ3TS5TZXlKcFpDSTZJbTVsZHkxcFpDSXNJblFpT2lKa2JTSXNJbk1pT2lKb2RIUndjem92TDIxbFpHbGhkRzl5TG5KdmIzUnphV1F1WTJ4dmRXUWlMQ0poSWpwYkltUnBaR052YlcwdmRqSWlYWDAiLCJhIjpbImRpZGNvbW0vdjIiXX0\n",
      "{'id': 'did:peer:2.Ez6LSd1naudB3T2PYA4G5NtkZaEiQKZMdZXFxHEGUECoWahGt.Vz6MkqXrYaNZAa5dtLi2wurXcDU9khMmTQGXed8RT17rTRwyt.SeyJpZCI6Im5ldy1pZCIsInQiOiJkbSIsInMiOiJkaWQ6cGVlcjoyLkV6NkxTalRhNmdEWFdUeTlhUHphYXF6aXNZZXhldGhxMmh0RDZQUGFUZDJSOVpkZW8uVno2TWtnZWpzQXEzdzNzN2ZTUGptUFE0Sm1EVUdvdHRFbVI3TXhCcWNXeWVzcnJ3TS5TZXlKcFpDSTZJbTVsZHkxcFpDSXNJblFpT2lKa2JTSXNJbk1pT2lKb2RIUndjem92TDIxbFpHbGhkRzl5TG5KdmIzUnphV1F1WTJ4dmRXUWlMQ0poSWpwYkltUnBaR052YlcwdmRqSWlYWDAiLCJhIjpbImRpZGNvbW0vdjIiXX0', 'authentication': [{'id': 'did:peer:2.Ez6LSd1naudB3T2PYA4G5NtkZaEiQKZMdZXFxHEGUECoWahGt.Vz6MkqXrYaNZAa5dtLi2wurXcDU9khMmTQGXed8RT17rTRwyt.SeyJpZCI6Im5ldy1pZCIsInQiOiJkbSIsInMiOiJkaWQ6cGVlcjoyLkV6NkxTalRhNmdEWFdUeTlhUHphYXF6aXNZZXhldGhxMmh0RDZQUGFUZDJSOVpkZW8uVno2TWtnZWpzQXEzdzNzN2ZTUGptUFE0Sm1EVUdvdHRFbVI3TXhCcWNXeWVzcnJ3TS5TZXlKcFpDSTZJbTVsZHkxcFpDSXNJblFpT2lKa2JTSXNJbk1pT2lKb2RIUndjem92TDIxbFpHbGhkRzl5TG5KdmIzUnphV1F1WTJ4dmRXUWlMQ0poSWpwYkltUnBaR052YlcwdmRqSWlYWDAiLCJhIjpbImRpZGNvbW0vdjIiXX0#6MkqXrYaNZAa5dtLi2wurXcDU9khMmTQGXed8RT17rTRwyt', 'type': 'Ed25519VerificationKey2020', 'controller': 'did:peer:2.Ez6LSd1naudB3T2PYA4G5NtkZaEiQKZMdZXFxHEGUECoWahGt.Vz6MkqXrYaNZAa5dtLi2wurXcDU9khMmTQGXed8RT17rTRwyt.SeyJpZCI6Im5ldy1pZCIsInQiOiJkbSIsInMiOiJkaWQ6cGVlcjoyLkV6NkxTalRhNmdEWFdUeTlhUHphYXF6aXNZZXhldGhxMmh0RDZQUGFUZDJSOVpkZW8uVno2TWtnZWpzQXEzdzNzN2ZTUGptUFE0Sm1EVUdvdHRFbVI3TXhCcWNXeWVzcnJ3TS5TZXlKcFpDSTZJbTVsZHkxcFpDSXNJblFpT2lKa2JTSXNJbk1pT2lKb2RIUndjem92TDIxbFpHbGhkRzl5TG5KdmIzUnphV1F1WTJ4dmRXUWlMQ0poSWpwYkltUnBaR052YlcwdmRqSWlYWDAiLCJhIjpbImRpZGNvbW0vdjIiXX0', 'publicKeyMultibase': 'z6MkqXrYaNZAa5dtLi2wurXcDU9khMmTQGXed8RT17rTRwyt'}], 'keyAgreement': [{'id': 'did:peer:2.Ez6LSd1naudB3T2PYA4G5NtkZaEiQKZMdZXFxHEGUECoWahGt.Vz6MkqXrYaNZAa5dtLi2wurXcDU9khMmTQGXed8RT17rTRwyt.SeyJpZCI6Im5ldy1pZCIsInQiOiJkbSIsInMiOiJkaWQ6cGVlcjoyLkV6NkxTalRhNmdEWFdUeTlhUHphYXF6aXNZZXhldGhxMmh0RDZQUGFUZDJSOVpkZW8uVno2TWtnZWpzQXEzdzNzN2ZTUGptUFE0Sm1EVUdvdHRFbVI3TXhCcWNXeWVzcnJ3TS5TZXlKcFpDSTZJbTVsZHkxcFpDSXNJblFpT2lKa2JTSXNJbk1pT2lKb2RIUndjem92TDIxbFpHbGhkRzl5TG5KdmIzUnphV1F1WTJ4dmRXUWlMQ0poSWpwYkltUnBaR052YlcwdmRqSWlYWDAiLCJhIjpbImRpZGNvbW0vdjIiXX0#6LSd1naudB3T2PYA4G5NtkZaEiQKZMdZXFxHEGUECoWahGt', 'type': 'X25519KeyAgreementKey2020', 'controller': 'did:peer:2.Ez6LSd1naudB3T2PYA4G5NtkZaEiQKZMdZXFxHEGUECoWahGt.Vz6MkqXrYaNZAa5dtLi2wurXcDU9khMmTQGXed8RT17rTRwyt.SeyJpZCI6Im5ldy1pZCIsInQiOiJkbSIsInMiOiJkaWQ6cGVlcjoyLkV6NkxTalRhNmdEWFdUeTlhUHphYXF6aXNZZXhldGhxMmh0RDZQUGFUZDJSOVpkZW8uVno2TWtnZWpzQXEzdzNzN2ZTUGptUFE0Sm1EVUdvdHRFbVI3TXhCcWNXeWVzcnJ3TS5TZXlKcFpDSTZJbTVsZHkxcFpDSXNJblFpT2lKa2JTSXNJbk1pT2lKb2RIUndjem92TDIxbFpHbGhkRzl5TG5KdmIzUnphV1F1WTJ4dmRXUWlMQ0poSWpwYkltUnBaR052YlcwdmRqSWlYWDAiLCJhIjpbImRpZGNvbW0vdjIiXX0', 'publicKeyMultibase': 'z6LSd1naudB3T2PYA4G5NtkZaEiQKZMdZXFxHEGUECoWahGt'}], 'service': [{'id': 'did:peer:2.Ez6LSd1naudB3T2PYA4G5NtkZaEiQKZMdZXFxHEGUECoWahGt.Vz6MkqXrYaNZAa5dtLi2wurXcDU9khMmTQGXed8RT17rTRwyt.SeyJpZCI6Im5ldy1pZCIsInQiOiJkbSIsInMiOiJkaWQ6cGVlcjoyLkV6NkxTalRhNmdEWFdUeTlhUHphYXF6aXNZZXhldGhxMmh0RDZQUGFUZDJSOVpkZW8uVno2TWtnZWpzQXEzdzNzN2ZTUGptUFE0Sm1EVUdvdHRFbVI3TXhCcWNXeWVzcnJ3TS5TZXlKcFpDSTZJbTVsZHkxcFpDSXNJblFpT2lKa2JTSXNJbk1pT2lKb2RIUndjem92TDIxbFpHbGhkRzl5TG5KdmIzUnphV1F1WTJ4dmRXUWlMQ0poSWpwYkltUnBaR052YlcwdmRqSWlYWDAiLCJhIjpbImRpZGNvbW0vdjIiXX0#didcommmessaging-0', 'type': 'DIDCommMessaging', 'serviceEndpoint': 'did:peer:2.Ez6LSjTa6gDXWTy9aPzaaqzisYexethq2htD6PPaTd2R9Zdeo.Vz6MkgejsAq3w3s7fSPjmPQ4JmDUGottEmR7MxBqcWyesrrwM.SeyJpZCI6Im5ldy1pZCIsInQiOiJkbSIsInMiOiJodHRwczovL21lZGlhdG9yLnJvb3RzaWQuY2xvdWQiLCJhIjpbImRpZGNvbW0vdjIiXX0', 'accept': ['didcomm/v2']}]}\n"
     ]
    }
   ],
   "source": [
    "#alice_did_for_prism=await create_peer_did(1, 1, service_endpoint=\"http://host.docker.internal:8090/didcomm/\")\n",
    "print(alice_did_for_bob)\n",
    "print(json.loads(peer_did.resolve_peer_did(alice_did_for_bob)))"
   ]
  },
  {
   "cell_type": "code",
   "execution_count": 721,
   "metadata": {},
   "outputs": [],
   "source": [
    "connection_request = Message(\n",
    "    id = \"46430433-d872-4d4c-8376-0fa72cf124c2\",\n",
    "    thid = \"aaa456f3-8c51-4b1c-91e4-87e51c7a5104\",\n",
    "    type = \"https://atalaprism.io/mercury/connections/1.0/request\",\n",
    "    body = {\"goal_code\": \"Connect\",\"goal\":\"Connect\",\"accept\":[\"didcommv2\"]},\n",
    "    frm = alice_did_for_bob, \n",
    "    to = [prism_did]\n",
    ")"
   ]
  },
  {
   "cell_type": "code",
   "execution_count": 722,
   "metadata": {},
   "outputs": [],
   "source": [
    "connection_request_packed_msg = await pack_encrypted(\n",
    "    resolvers_config = ResolversConfig(\n",
    "        secrets_resolver = secrets_resolver,\n",
    "        did_resolver = DIDResolverPeerDID()\n",
    "    ),\n",
    "    message = connection_request,\n",
    "    frm = alice_did_for_bob,\n",
    "    to = prism_did,\n",
    "    sign_frm = None,\n",
    "    pack_config = PackEncryptedConfig(protect_sender_id=False)\n",
    ")"
   ]
  },
  {
   "cell_type": "code",
   "execution_count": 723,
   "metadata": {},
   "outputs": [],
   "source": [
    "headers = {\"Content-Type\": \"application/didcomm-encrypted+json\"}\n",
    "resp = requests.post(\"http://127.0.0.1:8080/didcomm\", headers=headers, data = connection_request_packed_msg.packed_msg)"
   ]
  },
  {
   "cell_type": "code",
   "execution_count": 724,
   "metadata": {},
   "outputs": [
    {
     "name": "stdout",
     "output_type": "stream",
     "text": [
      "<Response [500]>\n"
     ]
    }
   ],
   "source": [
    "print(resp)"
   ]
  },
  {
   "cell_type": "code",
   "execution_count": 725,
   "metadata": {},
   "outputs": [
    {
     "name": "stdout",
     "output_type": "stream",
     "text": [
      "{'id': 'did:peer:2.Ez6LSdGpdLzSijvKbyLmCf5n6o7cWi49kkUQB697hAp2GSNdu.Vz6MkhWb8vbUhV5AZFir7B2YEvhafi7hDNp1QxyydwY9NndZn.SeyJ0IjoiZG0iLCJzIjoiaHR0cDovLzE5Mi4xNjguODYuNTM6ODA4MC9kaWRjb21tIiwiciI6W10sImEiOlsiZGlkY29tbS92MiJdfQ', 'authentication': [{'id': 'did:peer:2.Ez6LSdGpdLzSijvKbyLmCf5n6o7cWi49kkUQB697hAp2GSNdu.Vz6MkhWb8vbUhV5AZFir7B2YEvhafi7hDNp1QxyydwY9NndZn.SeyJ0IjoiZG0iLCJzIjoiaHR0cDovLzE5Mi4xNjguODYuNTM6ODA4MC9kaWRjb21tIiwiciI6W10sImEiOlsiZGlkY29tbS92MiJdfQ#6MkhWb8vbUhV5AZFir7B2YEvhafi7hDNp1QxyydwY9NndZn', 'type': 'Ed25519VerificationKey2020', 'controller': 'did:peer:2.Ez6LSdGpdLzSijvKbyLmCf5n6o7cWi49kkUQB697hAp2GSNdu.Vz6MkhWb8vbUhV5AZFir7B2YEvhafi7hDNp1QxyydwY9NndZn.SeyJ0IjoiZG0iLCJzIjoiaHR0cDovLzE5Mi4xNjguODYuNTM6ODA4MC9kaWRjb21tIiwiciI6W10sImEiOlsiZGlkY29tbS92MiJdfQ', 'publicKeyMultibase': 'z6MkhWb8vbUhV5AZFir7B2YEvhafi7hDNp1QxyydwY9NndZn'}], 'keyAgreement': [{'id': 'did:peer:2.Ez6LSdGpdLzSijvKbyLmCf5n6o7cWi49kkUQB697hAp2GSNdu.Vz6MkhWb8vbUhV5AZFir7B2YEvhafi7hDNp1QxyydwY9NndZn.SeyJ0IjoiZG0iLCJzIjoiaHR0cDovLzE5Mi4xNjguODYuNTM6ODA4MC9kaWRjb21tIiwiciI6W10sImEiOlsiZGlkY29tbS92MiJdfQ#6LSdGpdLzSijvKbyLmCf5n6o7cWi49kkUQB697hAp2GSNdu', 'type': 'X25519KeyAgreementKey2020', 'controller': 'did:peer:2.Ez6LSdGpdLzSijvKbyLmCf5n6o7cWi49kkUQB697hAp2GSNdu.Vz6MkhWb8vbUhV5AZFir7B2YEvhafi7hDNp1QxyydwY9NndZn.SeyJ0IjoiZG0iLCJzIjoiaHR0cDovLzE5Mi4xNjguODYuNTM6ODA4MC9kaWRjb21tIiwiciI6W10sImEiOlsiZGlkY29tbS92MiJdfQ', 'publicKeyMultibase': 'z6LSdGpdLzSijvKbyLmCf5n6o7cWi49kkUQB697hAp2GSNdu'}], 'service': [{'id': 'did:peer:2.Ez6LSdGpdLzSijvKbyLmCf5n6o7cWi49kkUQB697hAp2GSNdu.Vz6MkhWb8vbUhV5AZFir7B2YEvhafi7hDNp1QxyydwY9NndZn.SeyJ0IjoiZG0iLCJzIjoiaHR0cDovLzE5Mi4xNjguODYuNTM6ODA4MC9kaWRjb21tIiwiciI6W10sImEiOlsiZGlkY29tbS92MiJdfQ#didcommmessaging-0', 'type': 'DIDCommMessaging', 'serviceEndpoint': 'http://192.168.86.53:8080/didcomm', 'routingKeys': [], 'accept': ['didcomm/v2']}]}\n"
     ]
    }
   ],
   "source": [
    "testDID = \"did:peer:2.Ez6LSdGpdLzSijvKbyLmCf5n6o7cWi49kkUQB697hAp2GSNdu.Vz6MkhWb8vbUhV5AZFir7B2YEvhafi7hDNp1QxyydwY9NndZn.SeyJ0IjoiZG0iLCJzIjoiaHR0cDovLzE5Mi4xNjguODYuNTM6ODA4MC9kaWRjb21tIiwiciI6W10sImEiOlsiZGlkY29tbS92MiJdfQ\"\n",
    "print(json.loads(peer_did.resolve_peer_did(testDID)))"
   ]
  },
  {
   "cell_type": "code",
   "execution_count": 726,
   "metadata": {},
   "outputs": [
    {
     "name": "stdout",
     "output_type": "stream",
     "text": [
      "{'id': 'did:peer:2.Ez6LShB3wZEeHCf4Pe9oWsv2LSJGTpXVKsDZeFewVBmg7meLN.Vz6MkwEA7fSRry5xdv6ioA7E6qjeZGkJNhDo4rii37SbowmQX.SeyJ0IjoiZG0iLCJzIjoiaHR0cDovLzE5Mi4xNjguODYuNTM6ODA4MC9kaWRjb21tIiwiciI6W10sImEiOlsiZGlkY29tbS92MiJdfQ', 'authentication': [{'id': 'did:peer:2.Ez6LShB3wZEeHCf4Pe9oWsv2LSJGTpXVKsDZeFewVBmg7meLN.Vz6MkwEA7fSRry5xdv6ioA7E6qjeZGkJNhDo4rii37SbowmQX.SeyJ0IjoiZG0iLCJzIjoiaHR0cDovLzE5Mi4xNjguODYuNTM6ODA4MC9kaWRjb21tIiwiciI6W10sImEiOlsiZGlkY29tbS92MiJdfQ#6MkwEA7fSRry5xdv6ioA7E6qjeZGkJNhDo4rii37SbowmQX', 'type': 'Ed25519VerificationKey2020', 'controller': 'did:peer:2.Ez6LShB3wZEeHCf4Pe9oWsv2LSJGTpXVKsDZeFewVBmg7meLN.Vz6MkwEA7fSRry5xdv6ioA7E6qjeZGkJNhDo4rii37SbowmQX.SeyJ0IjoiZG0iLCJzIjoiaHR0cDovLzE5Mi4xNjguODYuNTM6ODA4MC9kaWRjb21tIiwiciI6W10sImEiOlsiZGlkY29tbS92MiJdfQ', 'publicKeyMultibase': 'z6MkwEA7fSRry5xdv6ioA7E6qjeZGkJNhDo4rii37SbowmQX'}], 'keyAgreement': [{'id': 'did:peer:2.Ez6LShB3wZEeHCf4Pe9oWsv2LSJGTpXVKsDZeFewVBmg7meLN.Vz6MkwEA7fSRry5xdv6ioA7E6qjeZGkJNhDo4rii37SbowmQX.SeyJ0IjoiZG0iLCJzIjoiaHR0cDovLzE5Mi4xNjguODYuNTM6ODA4MC9kaWRjb21tIiwiciI6W10sImEiOlsiZGlkY29tbS92MiJdfQ#6LShB3wZEeHCf4Pe9oWsv2LSJGTpXVKsDZeFewVBmg7meLN', 'type': 'X25519KeyAgreementKey2020', 'controller': 'did:peer:2.Ez6LShB3wZEeHCf4Pe9oWsv2LSJGTpXVKsDZeFewVBmg7meLN.Vz6MkwEA7fSRry5xdv6ioA7E6qjeZGkJNhDo4rii37SbowmQX.SeyJ0IjoiZG0iLCJzIjoiaHR0cDovLzE5Mi4xNjguODYuNTM6ODA4MC9kaWRjb21tIiwiciI6W10sImEiOlsiZGlkY29tbS92MiJdfQ', 'publicKeyMultibase': 'z6LShB3wZEeHCf4Pe9oWsv2LSJGTpXVKsDZeFewVBmg7meLN'}], 'service': [{'id': 'did:peer:2.Ez6LShB3wZEeHCf4Pe9oWsv2LSJGTpXVKsDZeFewVBmg7meLN.Vz6MkwEA7fSRry5xdv6ioA7E6qjeZGkJNhDo4rii37SbowmQX.SeyJ0IjoiZG0iLCJzIjoiaHR0cDovLzE5Mi4xNjguODYuNTM6ODA4MC9kaWRjb21tIiwiciI6W10sImEiOlsiZGlkY29tbS92MiJdfQ#didcommmessaging-0', 'type': 'DIDCommMessaging', 'serviceEndpoint': 'http://192.168.86.53:8080/didcomm', 'routingKeys': [], 'accept': ['didcomm/v2']}]}\n"
     ]
    }
   ],
   "source": [
    "testDID = \"did:peer:2.Ez6LShB3wZEeHCf4Pe9oWsv2LSJGTpXVKsDZeFewVBmg7meLN.Vz6MkwEA7fSRry5xdv6ioA7E6qjeZGkJNhDo4rii37SbowmQX.SeyJ0IjoiZG0iLCJzIjoiaHR0cDovLzE5Mi4xNjguODYuNTM6ODA4MC9kaWRjb21tIiwiciI6W10sImEiOlsiZGlkY29tbS92MiJdfQ\"\n",
    "print(json.loads(peer_did.resolve_peer_did(testDID)))"
   ]
  },
  {
   "cell_type": "code",
   "execution_count": null,
   "metadata": {},
   "outputs": [],
   "source": []
  }
 ],
 "metadata": {
  "kernelspec": {
   "display_name": "Python 3 (ipykernel)",
   "language": "python",
   "name": "python3"
  },
  "language_info": {
   "codemirror_mode": {
    "name": "ipython",
    "version": 3
   },
   "file_extension": ".py",
   "mimetype": "text/x-python",
   "name": "python",
   "nbconvert_exporter": "python",
   "pygments_lexer": "ipython3",
   "version": "3.9.13"
  }
 },
 "nbformat": 4,
 "nbformat_minor": 2
}
