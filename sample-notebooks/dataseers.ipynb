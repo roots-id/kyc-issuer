{
 "cells": [
  {
   "cell_type": "code",
   "execution_count": 1,
   "id": "807182ee",
   "metadata": {},
   "outputs": [],
   "source": [
    "import requests\n",
    "import os"
   ]
  },
  {
   "cell_type": "code",
   "execution_count": 33,
   "id": "97934db5",
   "metadata": {},
   "outputs": [],
   "source": [
    "    \n",
    "dataseers_api_key = os.environ[\"DATASEERS_API_KEY\"]\n",
    "\n",
    "url = \"https://demo.dataseers.ai/services/v2/seerscan\"\n",
    "payload = {\n",
    "    \"first_name\": \"Rodolfo\",\n",
    "    \"last_name\": \"Miranda\",\n",
    "    \"contact_number\": \"3054874445\",\n",
    "#      \"ssn\": \"123123\",\n",
    "    \"address_1\": \"2105 NW 102nd Ave\",\n",
    "    \"city\": \"Doral\",\n",
    "    \"state\": \"FL\",\n",
    "    \"zip\": \"33172\",\n",
    "    \"flow_id\": \"001714\",\n",
    "    \"processor_id\": \"5187\",\n",
    "    \"type\": \"DocOnly\"\n",
    "}\n",
    "\n",
    "files = {\n",
    "    \"selfie\": open('/Users/rodo/Desktop/dni.jpg', 'rb'),\n",
    "    \"front\": open('/Users/rodo/Desktop/dni.jpg', 'rb')\n",
    "}\n",
    "headers = {\n",
    "    'api-key': dataseers_api_key}"
   ]
  },
  {
   "cell_type": "code",
   "execution_count": 26,
   "id": "6416ba2a",
   "metadata": {},
   "outputs": [
    {
     "name": "stderr",
     "output_type": "stream",
     "text": [
      "IOPub data rate exceeded.\n",
      "The notebook server will temporarily stop sending output\n",
      "to the client in order to avoid crashing it.\n",
      "To change this limit, set the config variable\n",
      "`--NotebookApp.iopub_data_rate_limit`.\n",
      "\n",
      "Current values:\n",
      "NotebookApp.iopub_data_rate_limit=1000000.0 (bytes/sec)\n",
      "NotebookApp.rate_limit_window=3.0 (secs)\n",
      "\n"
     ]
    }
   ],
   "source": [
    "session = requests.Session()\n",
    "resp = session.post(url,headers=headers,data=payload, files=files)\n",
    "print(resp.status_code)\n",
    "print(resp.text)"
   ]
  },
  {
   "cell_type": "code",
   "execution_count": 34,
   "id": "16842acb",
   "metadata": {},
   "outputs": [
    {
     "name": "stderr",
     "output_type": "stream",
     "text": [
      "IOPub data rate exceeded.\n",
      "The notebook server will temporarily stop sending output\n",
      "to the client in order to avoid crashing it.\n",
      "To change this limit, set the config variable\n",
      "`--NotebookApp.iopub_data_rate_limit`.\n",
      "\n",
      "Current values:\n",
      "NotebookApp.iopub_data_rate_limit=1000000.0 (bytes/sec)\n",
      "NotebookApp.rate_limit_window=3.0 (secs)\n",
      "\n"
     ]
    }
   ],
   "source": [
    "print(files[\"selfie\"].read())"
   ]
  },
  {
   "cell_type": "code",
   "execution_count": null,
   "id": "4dc3a281",
   "metadata": {},
   "outputs": [],
   "source": []
  }
 ],
 "metadata": {
  "kernelspec": {
   "display_name": "Python 3 (ipykernel)",
   "language": "python",
   "name": "python3"
  },
  "language_info": {
   "codemirror_mode": {
    "name": "ipython",
    "version": 3
   },
   "file_extension": ".py",
   "mimetype": "text/x-python",
   "name": "python",
   "nbconvert_exporter": "python",
   "pygments_lexer": "ipython3",
   "version": "3.10.4"
  }
 },
 "nbformat": 4,
 "nbformat_minor": 5
}
