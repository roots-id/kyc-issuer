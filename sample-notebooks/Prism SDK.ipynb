{
 "cells": [
  {
   "cell_type": "code",
   "execution_count": 1,
   "id": "37a8242e",
   "metadata": {},
   "outputs": [],
   "source": [
    "import sys\n",
    "import os\n",
    "import time\n",
    "import jpype\n",
    "import jpype.imports\n",
    "import json"
   ]
  },
  {
   "cell_type": "code",
   "execution_count": 2,
   "id": "1d9fe38c",
   "metadata": {},
   "outputs": [
    {
     "name": "stdout",
     "output_type": "stream",
     "text": [
      "ERROR: `ATALA_PRISM_JARS` variable is not set.\n",
      "Please, set it to the directory with Atala PRISM SDK dependencies JARs.\n"
     ]
    },
    {
     "ename": "AssertionError",
     "evalue": "",
     "output_type": "error",
     "traceback": [
      "\u001b[0;31m---------------------------------------------------------------------------\u001b[0m",
      "\u001b[0;31mKeyError\u001b[0m                                  Traceback (most recent call last)",
      "Input \u001b[0;32mIn [2]\u001b[0m, in \u001b[0;36m<cell line: 1>\u001b[0;34m()\u001b[0m\n\u001b[1;32m      1\u001b[0m \u001b[38;5;28;01mtry\u001b[39;00m:\n\u001b[0;32m----> 2\u001b[0m     sdk_gradle_home \u001b[38;5;241m=\u001b[39m \u001b[43mos\u001b[49m\u001b[38;5;241;43m.\u001b[39;49m\u001b[43menviron\u001b[49m\u001b[43m[\u001b[49m\u001b[38;5;124;43m\"\u001b[39;49m\u001b[38;5;124;43mATALA_PRISM_JARS\u001b[39;49m\u001b[38;5;124;43m\"\u001b[39;49m\u001b[43m]\u001b[49m\n\u001b[1;32m      3\u001b[0m \u001b[38;5;28;01mexcept\u001b[39;00m \u001b[38;5;167;01mKeyError\u001b[39;00m:\n",
      "File \u001b[0;32m/opt/homebrew/Cellar/python@3.9/3.9.13_1/Frameworks/Python.framework/Versions/3.9/lib/python3.9/os.py:679\u001b[0m, in \u001b[0;36m_Environ.__getitem__\u001b[0;34m(self, key)\u001b[0m\n\u001b[1;32m    677\u001b[0m \u001b[38;5;28;01mexcept\u001b[39;00m \u001b[38;5;167;01mKeyError\u001b[39;00m:\n\u001b[1;32m    678\u001b[0m     \u001b[38;5;66;03m# raise KeyError with the original key value\u001b[39;00m\n\u001b[0;32m--> 679\u001b[0m     \u001b[38;5;28;01mraise\u001b[39;00m \u001b[38;5;167;01mKeyError\u001b[39;00m(key) \u001b[38;5;28;01mfrom\u001b[39;00m \u001b[38;5;28mNone\u001b[39m\n\u001b[1;32m    680\u001b[0m \u001b[38;5;28;01mreturn\u001b[39;00m \u001b[38;5;28mself\u001b[39m\u001b[38;5;241m.\u001b[39mdecodevalue(value)\n",
      "\u001b[0;31mKeyError\u001b[0m: 'ATALA_PRISM_JARS'",
      "\nDuring handling of the above exception, another exception occurred:\n",
      "\u001b[0;31mSystemExit\u001b[0m                                Traceback (most recent call last)",
      "    \u001b[0;31m[... skipping hidden 1 frame]\u001b[0m\n",
      "Input \u001b[0;32mIn [2]\u001b[0m, in \u001b[0;36m<cell line: 1>\u001b[0;34m()\u001b[0m\n\u001b[1;32m      5\u001b[0m \u001b[38;5;28mprint\u001b[39m(\u001b[38;5;124m\"\u001b[39m\u001b[38;5;124mPlease, set it to the directory with Atala PRISM SDK dependencies JARs.\u001b[39m\u001b[38;5;124m\"\u001b[39m)\n\u001b[0;32m----> 6\u001b[0m \u001b[43msys\u001b[49m\u001b[38;5;241;43m.\u001b[39;49m\u001b[43mexit\u001b[49m\u001b[43m(\u001b[49m\u001b[38;5;241;43m1\u001b[39;49m\u001b[43m)\u001b[49m\n",
      "\u001b[0;31mSystemExit\u001b[0m: 1",
      "\nDuring handling of the above exception, another exception occurred:\n",
      "\u001b[0;31mAssertionError\u001b[0m                            Traceback (most recent call last)",
      "    \u001b[0;31m[... skipping hidden 1 frame]\u001b[0m\n",
      "File \u001b[0;32m/opt/homebrew/lib/python3.9/site-packages/IPython/core/interactiveshell.py:1982\u001b[0m, in \u001b[0;36mInteractiveShell.showtraceback\u001b[0;34m(self, exc_tuple, filename, tb_offset, exception_only, running_compiled_code)\u001b[0m\n\u001b[1;32m   1979\u001b[0m \u001b[38;5;28;01mif\u001b[39;00m exception_only:\n\u001b[1;32m   1980\u001b[0m     stb \u001b[38;5;241m=\u001b[39m [\u001b[38;5;124m'\u001b[39m\u001b[38;5;124mAn exception has occurred, use \u001b[39m\u001b[38;5;124m%\u001b[39m\u001b[38;5;124mtb to see \u001b[39m\u001b[38;5;124m'\u001b[39m\n\u001b[1;32m   1981\u001b[0m            \u001b[38;5;124m'\u001b[39m\u001b[38;5;124mthe full traceback.\u001b[39m\u001b[38;5;130;01m\\n\u001b[39;00m\u001b[38;5;124m'\u001b[39m]\n\u001b[0;32m-> 1982\u001b[0m     stb\u001b[38;5;241m.\u001b[39mextend(\u001b[38;5;28;43mself\u001b[39;49m\u001b[38;5;241;43m.\u001b[39;49m\u001b[43mInteractiveTB\u001b[49m\u001b[38;5;241;43m.\u001b[39;49m\u001b[43mget_exception_only\u001b[49m\u001b[43m(\u001b[49m\u001b[43metype\u001b[49m\u001b[43m,\u001b[49m\n\u001b[1;32m   1983\u001b[0m \u001b[43m                                                     \u001b[49m\u001b[43mvalue\u001b[49m\u001b[43m)\u001b[49m)\n\u001b[1;32m   1984\u001b[0m \u001b[38;5;28;01melse\u001b[39;00m:\n\u001b[1;32m   1985\u001b[0m     \u001b[38;5;28;01mtry\u001b[39;00m:\n\u001b[1;32m   1986\u001b[0m         \u001b[38;5;66;03m# Exception classes can customise their traceback - we\u001b[39;00m\n\u001b[1;32m   1987\u001b[0m         \u001b[38;5;66;03m# use this in IPython.parallel for exceptions occurring\u001b[39;00m\n\u001b[1;32m   1988\u001b[0m         \u001b[38;5;66;03m# in the engines. This should return a list of strings.\u001b[39;00m\n",
      "File \u001b[0;32m/opt/homebrew/lib/python3.9/site-packages/IPython/core/ultratb.py:585\u001b[0m, in \u001b[0;36mListTB.get_exception_only\u001b[0;34m(self, etype, value)\u001b[0m\n\u001b[1;32m    577\u001b[0m \u001b[38;5;28;01mdef\u001b[39;00m \u001b[38;5;21mget_exception_only\u001b[39m(\u001b[38;5;28mself\u001b[39m, etype, value):\n\u001b[1;32m    578\u001b[0m     \u001b[38;5;124;03m\"\"\"Only print the exception type and message, without a traceback.\u001b[39;00m\n\u001b[1;32m    579\u001b[0m \n\u001b[1;32m    580\u001b[0m \u001b[38;5;124;03m    Parameters\u001b[39;00m\n\u001b[0;32m   (...)\u001b[0m\n\u001b[1;32m    583\u001b[0m \u001b[38;5;124;03m    value : exception value\u001b[39;00m\n\u001b[1;32m    584\u001b[0m \u001b[38;5;124;03m    \"\"\"\u001b[39;00m\n\u001b[0;32m--> 585\u001b[0m     \u001b[38;5;28;01mreturn\u001b[39;00m \u001b[43mListTB\u001b[49m\u001b[38;5;241;43m.\u001b[39;49m\u001b[43mstructured_traceback\u001b[49m\u001b[43m(\u001b[49m\u001b[38;5;28;43mself\u001b[39;49m\u001b[43m,\u001b[49m\u001b[43m \u001b[49m\u001b[43metype\u001b[49m\u001b[43m,\u001b[49m\u001b[43m \u001b[49m\u001b[43mvalue\u001b[49m\u001b[43m)\u001b[49m\n",
      "File \u001b[0;32m/opt/homebrew/lib/python3.9/site-packages/IPython/core/ultratb.py:443\u001b[0m, in \u001b[0;36mListTB.structured_traceback\u001b[0;34m(self, etype, evalue, etb, tb_offset, context)\u001b[0m\n\u001b[1;32m    440\u001b[0m     chained_exc_ids\u001b[38;5;241m.\u001b[39madd(\u001b[38;5;28mid\u001b[39m(exception[\u001b[38;5;241m1\u001b[39m]))\n\u001b[1;32m    441\u001b[0m     chained_exceptions_tb_offset \u001b[38;5;241m=\u001b[39m \u001b[38;5;241m0\u001b[39m\n\u001b[1;32m    442\u001b[0m     out_list \u001b[38;5;241m=\u001b[39m (\n\u001b[0;32m--> 443\u001b[0m         \u001b[38;5;28;43mself\u001b[39;49m\u001b[38;5;241;43m.\u001b[39;49m\u001b[43mstructured_traceback\u001b[49m\u001b[43m(\u001b[49m\n\u001b[1;32m    444\u001b[0m \u001b[43m            \u001b[49m\u001b[43metype\u001b[49m\u001b[43m,\u001b[49m\u001b[43m \u001b[49m\u001b[43mevalue\u001b[49m\u001b[43m,\u001b[49m\u001b[43m \u001b[49m\u001b[43m(\u001b[49m\u001b[43metb\u001b[49m\u001b[43m,\u001b[49m\u001b[43m \u001b[49m\u001b[43mchained_exc_ids\u001b[49m\u001b[43m)\u001b[49m\u001b[43m,\u001b[49m\n\u001b[1;32m    445\u001b[0m \u001b[43m            \u001b[49m\u001b[43mchained_exceptions_tb_offset\u001b[49m\u001b[43m,\u001b[49m\u001b[43m \u001b[49m\u001b[43mcontext\u001b[49m\u001b[43m)\u001b[49m\n\u001b[1;32m    446\u001b[0m         \u001b[38;5;241m+\u001b[39m chained_exception_message\n\u001b[1;32m    447\u001b[0m         \u001b[38;5;241m+\u001b[39m out_list)\n\u001b[1;32m    449\u001b[0m \u001b[38;5;28;01mreturn\u001b[39;00m out_list\n",
      "File \u001b[0;32m/opt/homebrew/lib/python3.9/site-packages/IPython/core/ultratb.py:1118\u001b[0m, in \u001b[0;36mAutoFormattedTB.structured_traceback\u001b[0;34m(self, etype, value, tb, tb_offset, number_of_lines_of_context)\u001b[0m\n\u001b[1;32m   1116\u001b[0m \u001b[38;5;28;01melse\u001b[39;00m:\n\u001b[1;32m   1117\u001b[0m     \u001b[38;5;28mself\u001b[39m\u001b[38;5;241m.\u001b[39mtb \u001b[38;5;241m=\u001b[39m tb\n\u001b[0;32m-> 1118\u001b[0m \u001b[38;5;28;01mreturn\u001b[39;00m \u001b[43mFormattedTB\u001b[49m\u001b[38;5;241;43m.\u001b[39;49m\u001b[43mstructured_traceback\u001b[49m\u001b[43m(\u001b[49m\n\u001b[1;32m   1119\u001b[0m \u001b[43m    \u001b[49m\u001b[38;5;28;43mself\u001b[39;49m\u001b[43m,\u001b[49m\u001b[43m \u001b[49m\u001b[43metype\u001b[49m\u001b[43m,\u001b[49m\u001b[43m \u001b[49m\u001b[43mvalue\u001b[49m\u001b[43m,\u001b[49m\u001b[43m \u001b[49m\u001b[43mtb\u001b[49m\u001b[43m,\u001b[49m\u001b[43m \u001b[49m\u001b[43mtb_offset\u001b[49m\u001b[43m,\u001b[49m\u001b[43m \u001b[49m\u001b[43mnumber_of_lines_of_context\u001b[49m\u001b[43m)\u001b[49m\n",
      "File \u001b[0;32m/opt/homebrew/lib/python3.9/site-packages/IPython/core/ultratb.py:1012\u001b[0m, in \u001b[0;36mFormattedTB.structured_traceback\u001b[0;34m(self, etype, value, tb, tb_offset, number_of_lines_of_context)\u001b[0m\n\u001b[1;32m   1009\u001b[0m mode \u001b[38;5;241m=\u001b[39m \u001b[38;5;28mself\u001b[39m\u001b[38;5;241m.\u001b[39mmode\n\u001b[1;32m   1010\u001b[0m \u001b[38;5;28;01mif\u001b[39;00m mode \u001b[38;5;129;01min\u001b[39;00m \u001b[38;5;28mself\u001b[39m\u001b[38;5;241m.\u001b[39mverbose_modes:\n\u001b[1;32m   1011\u001b[0m     \u001b[38;5;66;03m# Verbose modes need a full traceback\u001b[39;00m\n\u001b[0;32m-> 1012\u001b[0m     \u001b[38;5;28;01mreturn\u001b[39;00m \u001b[43mVerboseTB\u001b[49m\u001b[38;5;241;43m.\u001b[39;49m\u001b[43mstructured_traceback\u001b[49m\u001b[43m(\u001b[49m\n\u001b[1;32m   1013\u001b[0m \u001b[43m        \u001b[49m\u001b[38;5;28;43mself\u001b[39;49m\u001b[43m,\u001b[49m\u001b[43m \u001b[49m\u001b[43metype\u001b[49m\u001b[43m,\u001b[49m\u001b[43m \u001b[49m\u001b[43mvalue\u001b[49m\u001b[43m,\u001b[49m\u001b[43m \u001b[49m\u001b[43mtb\u001b[49m\u001b[43m,\u001b[49m\u001b[43m \u001b[49m\u001b[43mtb_offset\u001b[49m\u001b[43m,\u001b[49m\u001b[43m \u001b[49m\u001b[43mnumber_of_lines_of_context\u001b[49m\n\u001b[1;32m   1014\u001b[0m \u001b[43m    \u001b[49m\u001b[43m)\u001b[49m\n\u001b[1;32m   1015\u001b[0m \u001b[38;5;28;01melif\u001b[39;00m mode \u001b[38;5;241m==\u001b[39m \u001b[38;5;124m'\u001b[39m\u001b[38;5;124mMinimal\u001b[39m\u001b[38;5;124m'\u001b[39m:\n\u001b[1;32m   1016\u001b[0m     \u001b[38;5;28;01mreturn\u001b[39;00m ListTB\u001b[38;5;241m.\u001b[39mget_exception_only(\u001b[38;5;28mself\u001b[39m, etype, value)\n",
      "File \u001b[0;32m/opt/homebrew/lib/python3.9/site-packages/IPython/core/ultratb.py:865\u001b[0m, in \u001b[0;36mVerboseTB.structured_traceback\u001b[0;34m(self, etype, evalue, etb, tb_offset, number_of_lines_of_context)\u001b[0m\n\u001b[1;32m    856\u001b[0m \u001b[38;5;28;01mdef\u001b[39;00m \u001b[38;5;21mstructured_traceback\u001b[39m(\n\u001b[1;32m    857\u001b[0m     \u001b[38;5;28mself\u001b[39m,\n\u001b[1;32m    858\u001b[0m     etype: \u001b[38;5;28mtype\u001b[39m,\n\u001b[0;32m   (...)\u001b[0m\n\u001b[1;32m    862\u001b[0m     number_of_lines_of_context: \u001b[38;5;28mint\u001b[39m \u001b[38;5;241m=\u001b[39m \u001b[38;5;241m5\u001b[39m,\n\u001b[1;32m    863\u001b[0m ):\n\u001b[1;32m    864\u001b[0m     \u001b[38;5;124;03m\"\"\"Return a nice text document describing the traceback.\"\"\"\u001b[39;00m\n\u001b[0;32m--> 865\u001b[0m     formatted_exception \u001b[38;5;241m=\u001b[39m \u001b[38;5;28;43mself\u001b[39;49m\u001b[38;5;241;43m.\u001b[39;49m\u001b[43mformat_exception_as_a_whole\u001b[49m\u001b[43m(\u001b[49m\u001b[43metype\u001b[49m\u001b[43m,\u001b[49m\u001b[43m \u001b[49m\u001b[43mevalue\u001b[49m\u001b[43m,\u001b[49m\u001b[43m \u001b[49m\u001b[43metb\u001b[49m\u001b[43m,\u001b[49m\u001b[43m \u001b[49m\u001b[43mnumber_of_lines_of_context\u001b[49m\u001b[43m,\u001b[49m\n\u001b[1;32m    866\u001b[0m \u001b[43m                                                           \u001b[49m\u001b[43mtb_offset\u001b[49m\u001b[43m)\u001b[49m\n\u001b[1;32m    868\u001b[0m     colors \u001b[38;5;241m=\u001b[39m \u001b[38;5;28mself\u001b[39m\u001b[38;5;241m.\u001b[39mColors  \u001b[38;5;66;03m# just a shorthand + quicker name lookup\u001b[39;00m\n\u001b[1;32m    869\u001b[0m     colorsnormal \u001b[38;5;241m=\u001b[39m colors\u001b[38;5;241m.\u001b[39mNormal  \u001b[38;5;66;03m# used a lot\u001b[39;00m\n",
      "File \u001b[0;32m/opt/homebrew/lib/python3.9/site-packages/IPython/core/ultratb.py:799\u001b[0m, in \u001b[0;36mVerboseTB.format_exception_as_a_whole\u001b[0;34m(self, etype, evalue, etb, number_of_lines_of_context, tb_offset)\u001b[0m\n\u001b[1;32m    796\u001b[0m \u001b[38;5;28;01massert\u001b[39;00m \u001b[38;5;28misinstance\u001b[39m(tb_offset, \u001b[38;5;28mint\u001b[39m)\n\u001b[1;32m    797\u001b[0m head \u001b[38;5;241m=\u001b[39m \u001b[38;5;28mself\u001b[39m\u001b[38;5;241m.\u001b[39mprepare_header(etype, \u001b[38;5;28mself\u001b[39m\u001b[38;5;241m.\u001b[39mlong_header)\n\u001b[1;32m    798\u001b[0m records \u001b[38;5;241m=\u001b[39m (\n\u001b[0;32m--> 799\u001b[0m     \u001b[38;5;28;43mself\u001b[39;49m\u001b[38;5;241;43m.\u001b[39;49m\u001b[43mget_records\u001b[49m\u001b[43m(\u001b[49m\u001b[43metb\u001b[49m\u001b[43m,\u001b[49m\u001b[43m \u001b[49m\u001b[43mnumber_of_lines_of_context\u001b[49m\u001b[43m,\u001b[49m\u001b[43m \u001b[49m\u001b[43mtb_offset\u001b[49m\u001b[43m)\u001b[49m \u001b[38;5;28;01mif\u001b[39;00m etb \u001b[38;5;28;01melse\u001b[39;00m []\n\u001b[1;32m    800\u001b[0m )\n\u001b[1;32m    802\u001b[0m frames \u001b[38;5;241m=\u001b[39m []\n\u001b[1;32m    803\u001b[0m skipped \u001b[38;5;241m=\u001b[39m \u001b[38;5;241m0\u001b[39m\n",
      "File \u001b[0;32m/opt/homebrew/lib/python3.9/site-packages/IPython/core/ultratb.py:854\u001b[0m, in \u001b[0;36mVerboseTB.get_records\u001b[0;34m(self, etb, number_of_lines_of_context, tb_offset)\u001b[0m\n\u001b[1;32m    848\u001b[0m     formatter \u001b[38;5;241m=\u001b[39m \u001b[38;5;28;01mNone\u001b[39;00m\n\u001b[1;32m    849\u001b[0m options \u001b[38;5;241m=\u001b[39m stack_data\u001b[38;5;241m.\u001b[39mOptions(\n\u001b[1;32m    850\u001b[0m     before\u001b[38;5;241m=\u001b[39mbefore,\n\u001b[1;32m    851\u001b[0m     after\u001b[38;5;241m=\u001b[39mafter,\n\u001b[1;32m    852\u001b[0m     pygments_formatter\u001b[38;5;241m=\u001b[39mformatter,\n\u001b[1;32m    853\u001b[0m )\n\u001b[0;32m--> 854\u001b[0m \u001b[38;5;28;01mreturn\u001b[39;00m \u001b[38;5;28;43mlist\u001b[39;49m\u001b[43m(\u001b[49m\u001b[43mstack_data\u001b[49m\u001b[38;5;241;43m.\u001b[39;49m\u001b[43mFrameInfo\u001b[49m\u001b[38;5;241;43m.\u001b[39;49m\u001b[43mstack_data\u001b[49m\u001b[43m(\u001b[49m\u001b[43metb\u001b[49m\u001b[43m,\u001b[49m\u001b[43m \u001b[49m\u001b[43moptions\u001b[49m\u001b[38;5;241;43m=\u001b[39;49m\u001b[43moptions\u001b[49m\u001b[43m)\u001b[49m\u001b[43m)\u001b[49m[tb_offset:]\n",
      "File \u001b[0;32m/opt/homebrew/lib/python3.9/site-packages/stack_data/core.py:546\u001b[0m, in \u001b[0;36mFrameInfo.stack_data\u001b[0;34m(cls, frame_or_tb, options, collapse_repeated_frames)\u001b[0m\n\u001b[1;32m    530\u001b[0m \u001b[38;5;129m@classmethod\u001b[39m\n\u001b[1;32m    531\u001b[0m \u001b[38;5;28;01mdef\u001b[39;00m \u001b[38;5;21mstack_data\u001b[39m(\n\u001b[1;32m    532\u001b[0m         \u001b[38;5;28mcls\u001b[39m,\n\u001b[0;32m   (...)\u001b[0m\n\u001b[1;32m    536\u001b[0m         collapse_repeated_frames: \u001b[38;5;28mbool\u001b[39m \u001b[38;5;241m=\u001b[39m \u001b[38;5;28;01mTrue\u001b[39;00m\n\u001b[1;32m    537\u001b[0m ) \u001b[38;5;241m-\u001b[39m\u001b[38;5;241m>\u001b[39m Iterator[Union[\u001b[38;5;124m'\u001b[39m\u001b[38;5;124mFrameInfo\u001b[39m\u001b[38;5;124m'\u001b[39m, RepeatedFrames]]:\n\u001b[1;32m    538\u001b[0m     \u001b[38;5;124;03m\"\"\"\u001b[39;00m\n\u001b[1;32m    539\u001b[0m \u001b[38;5;124;03m    An iterator of FrameInfo and RepeatedFrames objects representing\u001b[39;00m\n\u001b[1;32m    540\u001b[0m \u001b[38;5;124;03m    a full traceback or stack. Similar consecutive frames are collapsed into RepeatedFrames\u001b[39;00m\n\u001b[0;32m   (...)\u001b[0m\n\u001b[1;32m    544\u001b[0m \u001b[38;5;124;03m    and optionally an Options object to configure.\u001b[39;00m\n\u001b[1;32m    545\u001b[0m \u001b[38;5;124;03m    \"\"\"\u001b[39;00m\n\u001b[0;32m--> 546\u001b[0m     stack \u001b[38;5;241m=\u001b[39m \u001b[38;5;28;43mlist\u001b[39;49m\u001b[43m(\u001b[49m\u001b[43miter_stack\u001b[49m\u001b[43m(\u001b[49m\u001b[43mframe_or_tb\u001b[49m\u001b[43m)\u001b[49m\u001b[43m)\u001b[49m\n\u001b[1;32m    548\u001b[0m     \u001b[38;5;66;03m# Reverse the stack from a frame so that it's in the same order\u001b[39;00m\n\u001b[1;32m    549\u001b[0m     \u001b[38;5;66;03m# as the order from a traceback, which is the order of a printed\u001b[39;00m\n\u001b[1;32m    550\u001b[0m     \u001b[38;5;66;03m# traceback when read top to bottom (most recent call last)\u001b[39;00m\n\u001b[1;32m    551\u001b[0m     \u001b[38;5;28;01mif\u001b[39;00m is_frame(frame_or_tb):\n",
      "File \u001b[0;32m/opt/homebrew/lib/python3.9/site-packages/stack_data/utils.py:98\u001b[0m, in \u001b[0;36miter_stack\u001b[0;34m(frame_or_tb)\u001b[0m\n\u001b[1;32m     96\u001b[0m \u001b[38;5;28;01mwhile\u001b[39;00m frame_or_tb:\n\u001b[1;32m     97\u001b[0m     \u001b[38;5;28;01myield\u001b[39;00m frame_or_tb\n\u001b[0;32m---> 98\u001b[0m     \u001b[38;5;28;01mif\u001b[39;00m \u001b[43mis_frame\u001b[49m\u001b[43m(\u001b[49m\u001b[43mframe_or_tb\u001b[49m\u001b[43m)\u001b[49m:\n\u001b[1;32m     99\u001b[0m         frame_or_tb \u001b[38;5;241m=\u001b[39m frame_or_tb\u001b[38;5;241m.\u001b[39mf_back\n\u001b[1;32m    100\u001b[0m     \u001b[38;5;28;01melse\u001b[39;00m:\n",
      "File \u001b[0;32m/opt/homebrew/lib/python3.9/site-packages/stack_data/utils.py:91\u001b[0m, in \u001b[0;36mis_frame\u001b[0;34m(frame_or_tb)\u001b[0m\n\u001b[1;32m     90\u001b[0m \u001b[38;5;28;01mdef\u001b[39;00m \u001b[38;5;21mis_frame\u001b[39m(frame_or_tb: Union[FrameType, TracebackType]) \u001b[38;5;241m-\u001b[39m\u001b[38;5;241m>\u001b[39m \u001b[38;5;28mbool\u001b[39m:\n\u001b[0;32m---> 91\u001b[0m     \u001b[43massert_\u001b[49m\u001b[43m(\u001b[49m\u001b[38;5;28;43misinstance\u001b[39;49m\u001b[43m(\u001b[49m\u001b[43mframe_or_tb\u001b[49m\u001b[43m,\u001b[49m\u001b[43m \u001b[49m\u001b[43m(\u001b[49m\u001b[43mtypes\u001b[49m\u001b[38;5;241;43m.\u001b[39;49m\u001b[43mFrameType\u001b[49m\u001b[43m,\u001b[49m\u001b[43m \u001b[49m\u001b[43mtypes\u001b[49m\u001b[38;5;241;43m.\u001b[39;49m\u001b[43mTracebackType\u001b[49m\u001b[43m)\u001b[49m\u001b[43m)\u001b[49m\u001b[43m)\u001b[49m\n\u001b[1;32m     92\u001b[0m     \u001b[38;5;28;01mreturn\u001b[39;00m \u001b[38;5;28misinstance\u001b[39m(frame_or_tb, (types\u001b[38;5;241m.\u001b[39mFrameType,))\n",
      "File \u001b[0;32m/opt/homebrew/lib/python3.9/site-packages/stack_data/utils.py:172\u001b[0m, in \u001b[0;36massert_\u001b[0;34m(condition, error)\u001b[0m\n\u001b[1;32m    170\u001b[0m \u001b[38;5;28;01mif\u001b[39;00m \u001b[38;5;28misinstance\u001b[39m(error, \u001b[38;5;28mstr\u001b[39m):\n\u001b[1;32m    171\u001b[0m     error \u001b[38;5;241m=\u001b[39m \u001b[38;5;167;01mAssertionError\u001b[39;00m(error)\n\u001b[0;32m--> 172\u001b[0m \u001b[38;5;28;01mraise\u001b[39;00m error\n",
      "\u001b[0;31mAssertionError\u001b[0m: "
     ]
    }
   ],
   "source": [
    "try:\n",
    "    sdk_gradle_home = os.environ[\"ATALA_PRISM_JARS\"]\n",
    "except KeyError:\n",
    "    print(\"ERROR: `ATALA_PRISM_JARS` variable is not set.\")\n",
    "    print(\"Please, set it to the directory with Atala PRISM SDK dependencies JARs.\")\n",
    "    sys.exit(1)"
   ]
  },
  {
   "cell_type": "code",
   "execution_count": null,
   "id": "69e7971a",
   "metadata": {},
   "outputs": [],
   "source": [
    "try:\n",
    "    jpype.imports.registerDomain('sdk', alias='io')\n",
    "except ImportError as err:\n",
    "    print(err.msg)\n",
    "    sys.exit(ERROR)\n",
    "jpype.startJVM(\n",
    "    classpath=[\n",
    "        os.path.join(sdk_gradle_home, f) for f in os.listdir(sdk_gradle_home)\n",
    "            if f.endswith('.jar')\n",
    "    ]\n",
    ")"
   ]
  },
  {
   "cell_type": "code",
   "execution_count": 114,
   "id": "6809e1c6",
   "metadata": {},
   "outputs": [],
   "source": [
    "from sdk.iohk.atala.prism.protos import *\n",
    "from sdk.iohk.atala.prism.api.node import *\n",
    "from sdk.iohk.atala.prism.api.models import *\n",
    "from sdk.iohk.atala.prism.api import *\n",
    "from sdk.iohk.atala.prism.crypto.derivation import *\n",
    "from sdk.iohk.atala.prism.crypto.keys import *\n",
    "from sdk.iohk.atala.prism.identity import *\n",
    "from kotlinx.serialization.json import *\n",
    "from kotlinx.serialization import DeserializationStrategy\n",
    "\n",
    "KeyGenerator = KeyGenerator.INSTANCE\n",
    "KeyDerivation = KeyDerivation.INSTANCE\n",
    "MasterKeyUsage = MasterKeyUsage.INSTANCE\n",
    "IssuingKeyUsage = IssuingKeyUsage.INSTANCE\n",
    "RevocationKeyUsage = RevocationKeyUsage.INSTANCE\n",
    "AuthenticationKeyUsage = AuthenticationKeyUsage.INSTANCE\n",
    "AtalaOperationStatus = AtalaOperationStatus.INSTANCE\n",
    "PrismDID = PrismDid"
   ]
  },
  {
   "cell_type": "code",
   "execution_count": 115,
   "id": "718cc300",
   "metadata": {},
   "outputs": [],
   "source": [
    "def wait_until_confirmed(node_api: NodePublicApi, operation_id: AtalaOperationId):\n",
    "    \"\"\"Waits until operation is confirmed by Cardano network\n",
    "    \n",
    "    Confirmation doesn't necessarily mean that operation was applied.\n",
    "    For example, it could be rejected because of an incorrect signature or other reasons.\n",
    "\n",
    "    :param node_api: Atala PRISM Node API object\n",
    "    :type node_api: NodePublicApi\n",
    "    :param operation_id: Atala PRISM operation ID\n",
    "    :type operation_id: AtalaOperationId\n",
    "    \"\"\"\n",
    "    operation_status = int(node_api.getOperationInfo(operation_id).join().getStatus())\n",
    "    while operation_status != AtalaOperationStatus.getCONFIRMED_AND_APPLIED() \\\n",
    "        and operation_status != AtalaOperationStatus.getCONFIRMED_AND_REJECTED():\n",
    "        print(f\"Current operation status: {AtalaOperationStatus.asString(operation_status)}\")\n",
    "        time.sleep(1)\n",
    "        operation_status = int(node_api.getOperationInfo(operation_id).join().getStatus())\n",
    "\n",
    "def prepare_keys_from_mnemonic(mnemonic: MnemonicCode, password: str):\n",
    "    \"\"\"Creates a map of potentially useful keys out of a mnemonic code\n",
    "\n",
    "    :param mnemonic: Mnemonic to generate keys from\n",
    "    :type mnemonic: MnemonicCode\n",
    "    :param password: Password for seed generation\n",
    "    :type password: str\n",
    "    :return: Map of keys\n",
    "    :rtype: dict<String, ECKeyPair>\n",
    "    \"\"\"\n",
    "    did_key_map = {}\n",
    "    seed = KeyDerivation.binarySeed(mnemonic, password)\n",
    "    did_key_map[PrismDid.getDEFAULT_MASTER_KEY_ID()] = KeyGenerator.deriveKeyFromFullPath(seed, 0, MasterKeyUsage, 0)\n",
    "    did_key_map[PrismDid.getDEFAULT_ISSUING_KEY_ID()] = KeyGenerator.deriveKeyFromFullPath(seed, 0, IssuingKeyUsage, 0)\n",
    "    did_key_map[PrismDid.getDEFAULT_REVOCATION_KEY_ID()] = KeyGenerator.deriveKeyFromFullPath(seed, 0, RevocationKeyUsage, 0)\n",
    "    return did_key_map\n",
    "\n",
    "def prepare_keys_from_seed(seed: bytes):\n",
    "    \"\"\"Creates a map of potentially useful keys out of a mnemonic code\n",
    "\n",
    "    :param mnemonic: Mnemonic to generate keys from\n",
    "    :type mnemonic: MnemonicCode\n",
    "    :param password: Password for seed generation\n",
    "    :type password: str\n",
    "    :return: Map of keys\n",
    "    :rtype: dict<String, ECKeyPair>\n",
    "    \"\"\"\n",
    "    did_key_map = {}\n",
    "    did_key_map[PrismDid.getDEFAULT_MASTER_KEY_ID()] = KeyGenerator.deriveKeyFromFullPath(seed, 0, MasterKeyUsage, 0)\n",
    "    did_key_map[PrismDid.getDEFAULT_ISSUING_KEY_ID()] = KeyGenerator.deriveKeyFromFullPath(seed, 0, IssuingKeyUsage, 0)\n",
    "    did_key_map[PrismDid.getDEFAULT_REVOCATION_KEY_ID()] = KeyGenerator.deriveKeyFromFullPath(seed, 0, RevocationKeyUsage, 0)\n",
    "    return did_key_map"
   ]
  },
  {
   "cell_type": "code",
   "execution_count": 116,
   "id": "6f65944c",
   "metadata": {},
   "outputs": [],
   "source": [
    "environment = \"ppp-node-test.atalaprism.io\"\n",
    "node_auth_api = NodeAuthApiAsyncImpl(GrpcOptions(\"http\", environment, 50053))"
   ]
  },
  {
   "cell_type": "markdown",
   "id": "08f9cfdd",
   "metadata": {},
   "source": [
    "## Generating a DID"
   ]
  },
  {
   "cell_type": "code",
   "execution_count": 124,
   "id": "e7bd682b",
   "metadata": {},
   "outputs": [
    {
     "name": "stdout",
     "output_type": "stream",
     "text": [
      "master0\n",
      "Issuer: Generates and registers a DID\n",
      "did:prism:c57dd70074a1cac4741e63209248288e1fb9ffcd8887bf731e0ae76c42b078b0\n",
      "did:prism:c57dd70074a1cac4741e63209248288e1fb9ffcd8887bf731e0ae76c42b078b0:Cj8KPRI7CgdtYXN0ZXIwEAFKLgoJc2VjcDI1NmsxEiEC6EdauexQCeIX0NE1MzW2az3ptoODGoUfoQNpVtxcs1Y\n",
      "master0\n",
      "io.iohk.atala.prism.crypto.keys.ECPrivateKey@2474df51\n"
     ]
    },
    {
     "name": "stderr",
     "output_type": "stream",
     "text": [
      "[main] INFO org.bitcoinj.crypto.MnemonicCode - PBKDF2 took 21.74 ms\n"
     ]
    },
    {
     "name": "stdout",
     "output_type": "stream",
     "text": [
      "\n",
      "- Issuer sent a request to create a new DID to PRISM Node.\n",
      "- The transaction can take up to 10 minutes to be confirmed by the Cardano network.\n",
      "- Operation identifier: a7050848f3cbe971a4cbc626c514bf376da9ef3e2a3d0fad473ff1db6619cd7f\n",
      "\n",
      "Current operation status: PENDING_SUBMISSION\n",
      "Current operation status: PENDING_SUBMISSION\n",
      "Current operation status: PENDING_SUBMISSION\n",
      "Current operation status: PENDING_SUBMISSION\n",
      "Current operation status: PENDING_SUBMISSION\n",
      "Current operation status: PENDING_SUBMISSION\n",
      "Current operation status: PENDING_SUBMISSION\n",
      "Current operation status: PENDING_SUBMISSION\n",
      "- DID with id did:prism:c57dd70074a1cac4741e63209248288e1fb9ffcd8887bf731e0ae76c42b078b0 is created\n"
     ]
    }
   ],
   "source": [
    "print(PrismDid.getDEFAULT_MASTER_KEY_ID())\n",
    "print(\"Issuer: Generates and registers a DID\")\n",
    "issuer_keys = prepare_keys_from_mnemonic(KeyDerivation.randomMnemonicCode(), \"passphrase\")\n",
    "issuer_unpublished_did = PrismDid.buildLongFormFromMasterPublicKey(\n",
    "    issuer_keys[PrismDid.getDEFAULT_MASTER_KEY_ID()].getPublicKey()\n",
    ")\n",
    "issuer_did = issuer_unpublished_did.asCanonical()\n",
    "print(issuer_did.toString())\n",
    "node_payload_generator = NodePayloadGenerator(\n",
    "    issuer_unpublished_did,\n",
    "    {\n",
    "        PrismDid.getDEFAULT_MASTER_KEY_ID(): issuer_keys[PrismDid.getDEFAULT_MASTER_KEY_ID()].getPrivateKey(),\n",
    "        PrismDid.getDEFAULT_ISSUING_KEY_ID(): issuer_keys[PrismDid.getDEFAULT_ISSUING_KEY_ID()].getPrivateKey()\n",
    "    },\n",
    "    \n",
    ")\n",
    "stored_object = {\n",
    "    \"did\": issuer_unpublished_did.toString(),\n",
    "    PrismDid.getDEFAULT_MASTER_KEY_ID(): str(issuer_keys[PrismDid.getDEFAULT_MASTER_KEY_ID()].getPrivateKey().getHexEncoded()),\n",
    "    PrismDid.getDEFAULT_ISSUING_KEY_ID(): str(issuer_keys[PrismDid.getDEFAULT_ISSUING_KEY_ID()].getPrivateKey().getHexEncoded())\n",
    "}\n",
    "\n",
    "print(issuer_unpublished_did)\n",
    "print(PrismDid.getDEFAULT_MASTER_KEY_ID())\n",
    "print(issuer_keys[PrismDid.getDEFAULT_MASTER_KEY_ID()].getPrivateKey())\n",
    "issuer_create_did_info = node_payload_generator.createDid(PrismDid.getDEFAULT_MASTER_KEY_ID())\n",
    "issuer_create_did_operation_id = node_auth_api.createDid(\n",
    "    issuer_create_did_info.getPayload(),\n",
    "    issuer_unpublished_did,\n",
    "    PrismDid.getDEFAULT_MASTER_KEY_ID()\n",
    ").join()\n",
    "\n",
    "print(f\"\"\"\n",
    "- Issuer sent a request to create a new DID to PRISM Node.\n",
    "- The transaction can take up to 10 minutes to be confirmed by the Cardano network.\n",
    "- Operation identifier: {issuer_create_did_operation_id.hexValue()}\n",
    "\"\"\")\n",
    "create_did_operation_result = wait_until_confirmed(node_auth_api, issuer_create_did_operation_id)\n",
    "\n",
    "print(f\"- DID with id {issuer_did} is created\")"
   ]
  },
  {
   "cell_type": "code",
   "execution_count": 118,
   "id": "7f5ce58d",
   "metadata": {},
   "outputs": [
    {
     "name": "stdout",
     "output_type": "stream",
     "text": [
      "8acfa50c7df2a4077837fda719427df724c5c2c87a2e16fb16ba66f12eb6b027\n",
      "<java class 'io.iohk.atala.prism.crypto.keys.ECPrivateKey'>\n"
     ]
    },
    {
     "ename": "TypeError",
     "evalue": "No matching overloads found for constructor io.iohk.atala.prism.crypto.keys.ECPrivateKey(int), options are:\n\tpublic io.iohk.atala.prism.crypto.keys.ECPrivateKey(java.security.PrivateKey)\n\n",
     "output_type": "error",
     "traceback": [
      "\u001b[0;31m---------------------------------------------------------------------------\u001b[0m",
      "\u001b[0;31mTypeError\u001b[0m                                 Traceback (most recent call last)",
      "Input \u001b[0;32mIn [118]\u001b[0m, in \u001b[0;36m<cell line: 4>\u001b[0;34m()\u001b[0m\n\u001b[1;32m      2\u001b[0m \u001b[38;5;28mprint\u001b[39m(\u001b[38;5;28mtype\u001b[39m(issuer_keys[PrismDid\u001b[38;5;241m.\u001b[39mgetDEFAULT_MASTER_KEY_ID()]\u001b[38;5;241m.\u001b[39mgetPrivateKey()))\n\u001b[1;32m      3\u001b[0m bint \u001b[38;5;241m=\u001b[39m \u001b[38;5;28mint\u001b[39m(\u001b[38;5;28mstr\u001b[39m(issuer_keys[PrismDid\u001b[38;5;241m.\u001b[39mgetDEFAULT_MASTER_KEY_ID()]\u001b[38;5;241m.\u001b[39mgetPrivateKey()\u001b[38;5;241m.\u001b[39mgetHexEncoded()),\u001b[38;5;241m16\u001b[39m)\n\u001b[0;32m----> 4\u001b[0m kkee \u001b[38;5;241m=\u001b[39m \u001b[43mECPrivateKey\u001b[49m\u001b[43m(\u001b[49m\u001b[43mbint\u001b[49m\u001b[43m)\u001b[49m\n",
      "\u001b[0;31mTypeError\u001b[0m: No matching overloads found for constructor io.iohk.atala.prism.crypto.keys.ECPrivateKey(int), options are:\n\tpublic io.iohk.atala.prism.crypto.keys.ECPrivateKey(java.security.PrivateKey)\n\n"
     ]
    }
   ],
   "source": [
    "print(issuer_keys[PrismDid.getDEFAULT_MASTER_KEY_ID()].getPrivateKey().getHexEncoded())\n",
    "print(type(issuer_keys[PrismDid.getDEFAULT_MASTER_KEY_ID()].getPrivateKey()))\n",
    "bint = int(str(issuer_keys[PrismDid.getDEFAULT_MASTER_KEY_ID()].getPrivateKey().getHexEncoded()),16)\n",
    "kkee = ECPrivateKey(bint)"
   ]
  },
  {
   "cell_type": "code",
   "execution_count": 66,
   "id": "278c8ace",
   "metadata": {},
   "outputs": [
    {
     "name": "stdout",
     "output_type": "stream",
     "text": [
      "{'master0': <java object 'io.iohk.atala.prism.crypto.keys.ECKeyPair'>, 'issuing0': <java object 'io.iohk.atala.prism.crypto.keys.ECKeyPair'>, 'revocation0': <java object 'io.iohk.atala.prism.crypto.keys.ECKeyPair'>}\n",
      "<class 'dict'>\n"
     ]
    }
   ],
   "source": [
    "print(issuer_keys)\n",
    "print(type(issuer_keys))"
   ]
  },
  {
   "cell_type": "code",
   "execution_count": 125,
   "id": "45bfa18b",
   "metadata": {},
   "outputs": [],
   "source": [
    "# Issuer generates a credential to Holder identified by its unpublished DID\n",
    "holder_did = PrismDid.fromString(\"did:prism:478c2a9e906b812531b606624ebd9e5a263ea62be5cdef78d69165976b736bad\")\n",
    "credential_claim = CredentialClaim(\n",
    "    holder_did,\n",
    "    JsonObject(\n",
    "        {\n",
    "            \"name\": JsonLiteral(\"Jose Lopez Portillo\", True),\n",
    "            \"certificate\": JsonLiteral(\"Certificate of PRISM SDK Python tutorial completion\", True)\n",
    "        }\n",
    "    )\n",
    ")\n",
    "# node_payload_generator = NodePayloadGenerator(\n",
    "#     issuer_unpublished_did,\n",
    "#     {\n",
    "#         PrismDid.getDEFAULT_MASTER_KEY_ID(): stored_object[PrismDid.getDEFAULT_MASTER_KEY_ID()],\n",
    "#         PrismDid.getDEFAULT_ISSUING_KEY_ID(): stored_object[PrismDid.getDEFAULT_ISSUING_KEY_ID()],\n",
    "#     },\n",
    "    \n",
    "# )\n",
    "\n",
    "\n",
    "issue_credential_info = node_payload_generator.issueCredentials(\n",
    "    PrismDid.getDEFAULT_ISSUING_KEY_ID(),\n",
    "    [credential_claim]\n",
    ")"
   ]
  },
  {
   "cell_type": "code",
   "execution_count": 127,
   "id": "1976c119",
   "metadata": {},
   "outputs": [
    {
     "name": "stdout",
     "output_type": "stream",
     "text": [
      "Current operation status: PENDING_SUBMISSION\n"
     ]
    }
   ],
   "source": [
    "#issuer_did2 = PrismDid.fromString(stored_object[\"did\"])\n",
    "issue_credential_batch_operation_id = node_auth_api.issueCredentials(\n",
    "    issue_credential_info.getPayload(),\n",
    "    issuer_unpublished_did.asCanonical(),\n",
    "    PrismDid.getDEFAULT_ISSUING_KEY_ID(),\n",
    "    issue_credential_info.getMerkleRoot()\n",
    ").join()\n",
    "\n",
    "issue_credential_batch_operation_result = \\\n",
    "    wait_until_confirmed(node_auth_api, issue_credential_batch_operation_id)"
   ]
  },
  {
   "cell_type": "code",
   "execution_count": 130,
   "id": "b6502179",
   "metadata": {},
   "outputs": [
    {
     "name": "stdout",
     "output_type": "stream",
     "text": [
      "\n",
      "Issuer [did:prism:c57dd70074a1cac4741e63209248288e1fb9ffcd8887bf731e0ae76c42b078b0] issued new credentials for the holder [did:prism:478c2a9e906b812531b606624ebd9e5a263ea62be5cdef78d69165976b736bad].\n",
      "- issueCredentialBatch operation identifier: 4835ca1123ce314e8b1f38d7c991feecc5ed358b901fd5bf8e58799541f34b83\n",
      "- Credential content: CredentialContent(fields={\"id\":\"did:prism:c57dd70074a1cac4741e63209248288e1fb9ffcd8887bf731e0ae76c42b078b0\",\"keyId\":\"issuing0\",\"credentialSubject\":{\"name\":\"Jose Lopez Portillo\",\"certificate\":\"Certificate of PRISM SDK Python tutorial completion\",\"id\":\"did:prism:478c2a9e906b812531b606624ebd9e5a263ea62be5cdef78d69165976b736bad\"}})\n",
      "- Signed credential: eyJpZCI6ImRpZDpwcmlzbTpjNTdkZDcwMDc0YTFjYWM0NzQxZTYzMjA5MjQ4Mjg4ZTFmYjlmZmNkODg4N2JmNzMxZTBhZTc2YzQyYjA3OGIwIiwia2V5SWQiOiJpc3N1aW5nMCIsImNyZWRlbnRpYWxTdWJqZWN0Ijp7Im5hbWUiOiJKb3NlIExvcGV6IFBvcnRpbGxvIiwiY2VydGlmaWNhdGUiOiJDZXJ0aWZpY2F0ZSBvZiBQUklTTSBTREsgUHl0aG9uIHR1dG9yaWFsIGNvbXBsZXRpb24iLCJpZCI6ImRpZDpwcmlzbTo0NzhjMmE5ZTkwNmI4MTI1MzFiNjA2NjI0ZWJkOWU1YTI2M2VhNjJiZTVjZGVmNzhkNjkxNjU5NzZiNzM2YmFkIn19.MEUCIQDPZYY2kiyVeXj8tLhhuXP9lF3Icvuurm54CW8eUmGHkwIgAXF-d7qPqSBQMl6xYu-ewrHn0KASQkPKLHAqRTURg8U\n",
      "- Inclusion proof (encoded): {\"hash\":\"e8acf90d9e4a5f379556c7df5935af6ef67fa72f6597995765c4948a16f4ce5c\",\"index\":0,\"siblings\":[]}\n",
      "- Batch id: CredentialBatchId(id=67f0609570266a51305a731c4198ff07f89e7e1d13b0711952cf0d45e42d274f)\n"
     ]
    }
   ],
   "source": [
    "holder_signed_credential = issue_credential_info.getCredentialsAndProofs()[0].getSignedCredential()\n",
    "holder_credential_merkle_proof = issue_credential_info.getCredentialsAndProofs()[0].getInclusionProof()\n",
    "\n",
    "print(f\"\"\"\n",
    "Issuer [{issuer_did}] issued new credentials for the holder [{holder_did.asCanonical()}].\n",
    "- issueCredentialBatch operation identifier: {issue_credential_batch_operation_id.hexValue()}\n",
    "- Credential content: {holder_signed_credential.getContent()}\n",
    "- Signed credential: {holder_signed_credential.getCanonicalForm()}\n",
    "- Inclusion proof (encoded): {holder_credential_merkle_proof.encode()}\n",
    "- Batch id: {issue_credential_info.getBatchId()}\"\"\"\n",
    ")"
   ]
  },
  {
   "cell_type": "code",
   "execution_count": 158,
   "id": "a558b84b",
   "metadata": {},
   "outputs": [
    {
     "name": "stdout",
     "output_type": "stream",
     "text": [
      "67f0609570266a51305a731c4198ff07f89e7e1d13b0711952cf0d45e42d274f\n"
     ]
    }
   ],
   "source": [
    "print(str(issue_credential_info.getBatchId().getId()))"
   ]
  },
  {
   "cell_type": "code",
   "execution_count": 29,
   "id": "3825412b",
   "metadata": {},
   "outputs": [
    {
     "ename": "AssertionError",
     "evalue": "VerificationErrors should be empty",
     "output_type": "error",
     "traceback": [
      "\u001b[0;31m---------------------------------------------------------------------------\u001b[0m",
      "\u001b[0;31mAssertionError\u001b[0m                            Traceback (most recent call last)",
      "Input \u001b[0;32mIn [29]\u001b[0m, in \u001b[0;36m<cell line: 8>\u001b[0;34m()\u001b[0m\n\u001b[1;32m      2\u001b[0m credential_verification_result \u001b[38;5;241m=\u001b[39m node_auth_api\u001b[38;5;241m.\u001b[39mverify(\n\u001b[1;32m      3\u001b[0m     holder_signed_credential,\n\u001b[1;32m      4\u001b[0m     holder_credential_merkle_proof\n\u001b[1;32m      5\u001b[0m )\u001b[38;5;241m.\u001b[39mjoin()\n\u001b[1;32m      7\u001b[0m verification_errors \u001b[38;5;241m=\u001b[39m credential_verification_result\u001b[38;5;241m.\u001b[39mgetVerificationErrors()\n\u001b[0;32m----> 8\u001b[0m \u001b[38;5;28;01massert\u001b[39;00m \u001b[38;5;28mlist\u001b[39m(verification_errors) \u001b[38;5;241m==\u001b[39m [], \u001b[38;5;124m\"\u001b[39m\u001b[38;5;124mVerificationErrors should be empty\u001b[39m\u001b[38;5;124m\"\u001b[39m\n",
      "\u001b[0;31mAssertionError\u001b[0m: VerificationErrors should be empty"
     ]
    }
   ],
   "source": [
    "# Verifier, who owns credentialClam, can easily verify the validity of the credentials\n",
    "credential_verification_result = node_auth_api.verify(\n",
    "    holder_signed_credential,\n",
    "    holder_credential_merkle_proof\n",
    ").join()\n",
    "\n",
    "verification_errors = credential_verification_result.getVerificationErrors()\n",
    "assert list(verification_errors) == [], \"VerificationErrors should be empty\""
   ]
  },
  {
   "cell_type": "code",
   "execution_count": null,
   "id": "8d79a8ff",
   "metadata": {},
   "outputs": [],
   "source": []
  },
  {
   "cell_type": "code",
   "execution_count": 83,
   "id": "f0534e9e",
   "metadata": {},
   "outputs": [
    {
     "name": "stderr",
     "output_type": "stream",
     "text": [
      "[main] INFO org.bitcoinj.crypto.MnemonicCode - PBKDF2 took 21.20 ms\n"
     ]
    }
   ],
   "source": [
    "mnemonic = KeyDerivation.randomMnemonicCode()\n",
    "phrase = \"password\"\n",
    "seed = bytes(KeyDerivation.binarySeed(mnemonic, phrase))"
   ]
  },
  {
   "cell_type": "code",
   "execution_count": 84,
   "id": "ba8812cc",
   "metadata": {},
   "outputs": [
    {
     "name": "stdout",
     "output_type": "stream",
     "text": [
      "<class 'bytes'>\n"
     ]
    }
   ],
   "source": [
    "print(type(seed))"
   ]
  },
  {
   "cell_type": "code",
   "execution_count": 85,
   "id": "5e491cd9",
   "metadata": {},
   "outputs": [
    {
     "name": "stderr",
     "output_type": "stream",
     "text": [
      "[main] INFO org.bitcoinj.crypto.MnemonicCode - PBKDF2 took 22.36 ms\n"
     ]
    }
   ],
   "source": [
    "keys1 = prepare_keys_from_mnemonic(mnemonic, phrase)"
   ]
  },
  {
   "cell_type": "code",
   "execution_count": 86,
   "id": "37e23da4",
   "metadata": {},
   "outputs": [],
   "source": [
    "keys2 = prepare_keys_from_seed(seed)"
   ]
  },
  {
   "cell_type": "code",
   "execution_count": 87,
   "id": "d0edc476",
   "metadata": {},
   "outputs": [
    {
     "name": "stdout",
     "output_type": "stream",
     "text": [
      "2447d8ab16457177306821ac64a7c49eb2a1b2f3d472b97dd42bcc3d7fd8481f\n"
     ]
    }
   ],
   "source": [
    "print(keys1[PrismDid.getDEFAULT_MASTER_KEY_ID()].getPrivateKey().getHexEncoded())"
   ]
  },
  {
   "cell_type": "code",
   "execution_count": 88,
   "id": "6f400321",
   "metadata": {},
   "outputs": [
    {
     "name": "stdout",
     "output_type": "stream",
     "text": [
      "2447d8ab16457177306821ac64a7c49eb2a1b2f3d472b97dd42bcc3d7fd8481f\n"
     ]
    }
   ],
   "source": [
    "print(keys2[PrismDid.getDEFAULT_MASTER_KEY_ID()].getPrivateKey().getHexEncoded())"
   ]
  },
  {
   "cell_type": "code",
   "execution_count": 107,
   "id": "76e47ab4",
   "metadata": {},
   "outputs": [],
   "source": [
    "cl = JsonObject(\n",
    "        {\n",
    "            \"name\": JsonLiteral(\"Jose Lopez Portillo\", True),\n",
    "            \"certificate\": JsonLiteral(\"Certificate of PRISM SDK Python tutorial completion\", True)\n",
    "        }\n",
    "    )\n",
    "jsonString = '{\"firstName\":\"Tom\", \"lastName\": \"Broody\"}'"
   ]
  },
  {
   "cell_type": "code",
   "execution_count": 108,
   "id": "32734ce2",
   "metadata": {},
   "outputs": [
    {
     "name": "stdout",
     "output_type": "stream",
     "text": [
      "<java class 'kotlinx.serialization.json.JsonObject'>\n"
     ]
    }
   ],
   "source": [
    "print(type(cl))"
   ]
  },
  {
   "cell_type": "code",
   "execution_count": null,
   "id": "9a606fe4",
   "metadata": {},
   "outputs": [],
   "source": []
  }
 ],
 "metadata": {
  "kernelspec": {
   "display_name": "Python 3 (ipykernel)",
   "language": "python",
   "name": "python3"
  },
  "language_info": {
   "codemirror_mode": {
    "name": "ipython",
    "version": 3
   },
   "file_extension": ".py",
   "mimetype": "text/x-python",
   "name": "python",
   "nbconvert_exporter": "python",
   "pygments_lexer": "ipython3",
   "version": "3.9.13"
  }
 },
 "nbformat": 4,
 "nbformat_minor": 5
}
